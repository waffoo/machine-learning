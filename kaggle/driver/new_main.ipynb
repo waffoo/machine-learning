{
 "cells": [
  {
   "cell_type": "code",
   "execution_count": 1,
   "metadata": {
    "ExecuteTime": {
     "end_time": "2017-11-28T22:45:40.461838Z",
     "start_time": "2017-11-28T22:45:40.063371Z"
    }
   },
   "outputs": [],
   "source": [
    "import sys\n",
    "import os\n",
    "import pandas as pd\n",
    "import numpy as np\n",
    "import warnings\n",
    "import sklearn\n",
    "warnings.filterwarnings('ignore')\n",
    "\n",
    "TRAIN_PATH = \"../../data/train.csv\"\n",
    "TEST_PATH = \"../../data/test.csv\"\n",
    "\n",
    "def get_data(path):\n",
    "    data = pd.read_csv(path)\n",
    "    return data"
   ]
  },
  {
   "cell_type": "code",
   "execution_count": 2,
   "metadata": {
    "ExecuteTime": {
     "end_time": "2017-11-28T22:30:35.399622Z",
     "start_time": "2017-11-28T22:29:49.200937Z"
    }
   },
   "outputs": [
    {
     "name": "stdout",
     "output_type": "stream",
     "text": [
      "(595212,) (595212, 244)\n"
     ]
    }
   ],
   "source": [
    "data = get_data(TRAIN_PATH)\n",
    "#基本処理\n",
    "#カテゴリ変数のダミー化\n",
    "cat = data.filter(regex=\"cat\").columns\n",
    "bin = data.filter(regex=\"bin\").columns\n",
    "cat = cat.append(bin)\n",
    "non_cat = list(set(data.columns) - set(cat))\n",
    "\n",
    "for tag in cat:\n",
    "    data[tag] = data[tag].astype(str)\n",
    "data = pd.concat((data, pd.get_dummies(data[cat])), axis=1).drop(cat,axis=1)\n",
    "\n",
    "#欠損値の存在するnon_cat値\n",
    "for tag in non_cat:\n",
    "    data[tag][data[tag]==-1] = data[tag][data[tag]!=-1].mean()\n",
    "    \n",
    "from sklearn.model_selection import train_test_split\n",
    "target = data.target.values\n",
    "data = data.drop(['id', 'target'], axis=1)\n",
    "data = data.values\n",
    "print(target.shape, data.shape)\n",
    "\n",
    "#X_train, X_test, Y_train, Y_test = train_test_split(data, target, stratify=target, random_state=0)\n",
    "\n",
    "from sklearn.preprocessing import StandardScaler\n",
    "sc = StandardScaler()\n",
    "sc.fit(data)\n",
    "data = sc.transform(data)"
   ]
  },
  {
   "cell_type": "code",
   "execution_count": 2,
   "metadata": {
    "ExecuteTime": {
     "end_time": "2017-11-28T22:10:38.941664Z",
     "start_time": "2017-11-28T22:10:38.918216Z"
    }
   },
   "outputs": [],
   "source": [
    "import numpy as np\n",
    "\n",
    "def gini(actual, pred, cmpcol = 0, sortcol = 1):\n",
    "    assert( len(actual) == len(pred) )\n",
    "    all = np.asarray(np.c_[ actual, pred, np.arange(len(actual)) ],dtype=np.float)\n",
    "    all = all[ np.lexsort((all[:,2], -1*all[:,1])) ]\n",
    "    totalLosses = all[:,0].sum()\n",
    "    giniSum = all[:,0].cumsum().sum() / totalLosses\n",
    "\n",
    "    giniSum -= (len(actual) + 1) / 2.\n",
    "    return giniSum / len(actual)\n",
    " \n",
    "def gini_normalized(a, p):\n",
    "    return gini(a, p) / gini(a, a)"
   ]
  },
  {
   "cell_type": "code",
   "execution_count": 5,
   "metadata": {
    "ExecuteTime": {
     "end_time": "2017-11-28T22:42:29.348489Z",
     "start_time": "2017-11-28T22:34:06.026592Z"
    }
   },
   "outputs": [
    {
     "data": {
      "text/plain": [
       "RandomForestRegressor(bootstrap=True, criterion='mse', max_depth=None,\n",
       "           max_features='auto', max_leaf_nodes=None,\n",
       "           min_impurity_decrease=0.0, min_impurity_split=None,\n",
       "           min_samples_leaf=1, min_samples_split=2,\n",
       "           min_weight_fraction_leaf=0.0, n_estimators=10, n_jobs=4,\n",
       "           oob_score=False, random_state=None, verbose=0, warm_start=False)"
      ]
     },
     "execution_count": 5,
     "metadata": {},
     "output_type": "execute_result"
    }
   ],
   "source": [
    "from sklearn.ensemble import RandomForestRegressor\n",
    "\n",
    "forest = RandomForestRegressor(n_jobs=4)\n",
    "forest.fit(data_resam, target_resam)\n",
    "#result=forest.predict(data)"
   ]
  },
  {
   "cell_type": "code",
   "execution_count": 8,
   "metadata": {
    "ExecuteTime": {
     "end_time": "2017-11-28T22:44:01.940423Z",
     "start_time": "2017-11-28T22:43:58.532557Z"
    }
   },
   "outputs": [],
   "source": [
    "result=forest.predict(data_resam)"
   ]
  },
  {
   "cell_type": "code",
   "execution_count": 6,
   "metadata": {
    "ExecuteTime": {
     "end_time": "2017-11-28T21:52:32.617638Z",
     "start_time": "2017-11-28T21:52:32.451567Z"
    }
   },
   "outputs": [
    {
     "data": {
      "text/plain": [
       "1.0"
      ]
     },
     "execution_count": 6,
     "metadata": {},
     "output_type": "execute_result"
    }
   ],
   "source": [
    "#standard\n",
    "gini_normalized(target, result)"
   ]
  },
  {
   "cell_type": "code",
   "execution_count": 6,
   "metadata": {
    "ExecuteTime": {
     "end_time": "2017-11-28T22:43:01.945245Z",
     "start_time": "2017-11-28T22:43:00.981422Z"
    }
   },
   "outputs": [
    {
     "data": {
      "text/plain": [
       "['forest.cmp']"
      ]
     },
     "execution_count": 6,
     "metadata": {},
     "output_type": "execute_result"
    }
   ],
   "source": [
    "#分類器の保存\n",
    "from sklearn.externals import joblib\n",
    "\n",
    "joblib.dump(forest, 'forest.cmp', compress=True)"
   ]
  },
  {
   "cell_type": "code",
   "execution_count": 2,
   "metadata": {
    "ExecuteTime": {
     "end_time": "2017-11-28T22:46:54.355757Z",
     "start_time": "2017-11-28T22:45:46.639013Z"
    }
   },
   "outputs": [
    {
     "name": "stdout",
     "output_type": "stream",
     "text": [
      "(892816,) (892816, 244)\n"
     ]
    }
   ],
   "source": [
    "data_sub = get_data(TEST_PATH)\n",
    "#提出データ側\n",
    "#基本処理\n",
    "#カテゴリ変数のダミー化\n",
    "cat = data_sub.filter(regex=\"cat\").columns\n",
    "bin = data_sub.filter(regex=\"bin\").columns\n",
    "cat = cat.append(bin)\n",
    "non_cat = list(set(data_sub.columns) - set(cat))\n",
    "\n",
    "for tag in cat:\n",
    "    data_sub[tag] = data_sub[tag].astype(str)\n",
    "data_sub = pd.concat((data_sub, pd.get_dummies(data_sub[cat])), axis=1).drop(cat,axis=1)\n",
    "\n",
    "#欠損値の存在するnon_cat値\n",
    "for tag in non_cat:\n",
    "    data_sub[tag][data_sub[tag]==-1] = data_sub[tag][data_sub[tag]!=-1].mean()\n",
    "    \n",
    "id = data_sub.id.values\n",
    "data_sub = data_sub.drop('id', axis=1)\n",
    "data_sub = data_sub.values\n",
    "print(id.shape, data_sub.shape)\n",
    "\n",
    "from sklearn.preprocessing import StandardScaler\n",
    "sc_sub = StandardScaler()\n",
    "sc_sub.fit(data_sub)\n",
    "data_sub = sc_sub.transform(data_sub)"
   ]
  },
  {
   "cell_type": "code",
   "execution_count": 3,
   "metadata": {
    "ExecuteTime": {
     "end_time": "2017-11-28T22:31:08.178984Z",
     "start_time": "2017-11-28T22:31:06.124981Z"
    }
   },
   "outputs": [],
   "source": [
    "from imblearn.over_sampling import RandomOverSampler\n",
    "\n",
    "ros = RandomOverSampler()\n",
    "data_resam, target_resam = ros.fit_sample(data, target)\n",
    "del data, target"
   ]
  },
  {
   "cell_type": "code",
   "execution_count": 3,
   "metadata": {
    "ExecuteTime": {
     "end_time": "2017-11-28T22:47:16.114647Z",
     "start_time": "2017-11-28T22:47:12.464404Z"
    },
    "scrolled": true
   },
   "outputs": [],
   "source": [
    "from sklearn.externals import joblib\n",
    "forest = joblib.load('forest.cmp')\n",
    "result = forest.predict(data_sub)"
   ]
  },
  {
   "cell_type": "code",
   "execution_count": 11,
   "metadata": {
    "ExecuteTime": {
     "end_time": "2017-11-28T22:52:52.645668Z",
     "start_time": "2017-11-28T22:52:52.625012Z"
    }
   },
   "outputs": [
    {
     "data": {
      "text/plain": [
       "(array([   903,    971,   2445,   2780,   4483,   7624,   7837,  10609,\n",
       "         10783,  10788,  11085,  12892,  13251,  14150,  14477,  14859,\n",
       "         15136,  15989,  16530,  19410,  19443,  20470,  20917,  22138,\n",
       "         24236,  25608,  26662,  27308,  28725,  29796,  30956,  30969,\n",
       "         31117,  32648,  33490,  33871,  34049,  37085,  37213,  38136,\n",
       "         38495,  39947,  39958,  41028,  41740,  44475,  45298,  46215,\n",
       "         47397,  48469,  49547,  50012,  52558,  54081,  54905,  55063,\n",
       "         55510,  56205,  56413,  56755,  57719,  60244,  60291,  60438,\n",
       "         61575,  62018,  62378,  64546,  64799,  65186,  68043,  68934,\n",
       "         69377,  69477,  69761,  70117,  70603,  71003,  71829,  73924,\n",
       "         76301,  76691,  77377,  77637,  80301,  80829,  81634,  84753,\n",
       "         84875,  85402,  85461,  85989,  88237,  89070,  92935,  93118,\n",
       "         93152,  93248,  93580,  93914,  94665,  98078, 100124, 100827,\n",
       "        100901, 102163, 102632, 103096, 104017, 104141, 104362, 105379,\n",
       "        105675, 105724, 106865, 107073, 107710, 107792, 108214, 109639,\n",
       "        110830, 110917, 111242, 111375, 111738, 112659, 112915, 113513,\n",
       "        114279, 115715, 115862, 115898, 116824, 117126, 117996, 118842,\n",
       "        119232, 121835, 122197, 122260, 123851, 126497, 126851, 127587,\n",
       "        127869, 127999, 128121, 128263, 129039, 129860, 130039, 130111,\n",
       "        130299, 131232, 131878, 132424, 132905, 132912, 137060, 137572,\n",
       "        137656, 137947, 138257, 138424, 138844, 139700, 142905, 143852,\n",
       "        145342, 145647, 146403, 147625, 148392, 150539, 151988, 153604,\n",
       "        154666, 154698, 156500, 157731, 158055, 161441, 161893, 162246,\n",
       "        162480, 163431, 164003, 164253, 164302, 164600, 165638, 167174,\n",
       "        167305, 167931, 168262, 168592, 168814, 168848, 169729, 170318,\n",
       "        170948, 171386, 171529, 173531, 175662, 176049, 178402, 179555,\n",
       "        179681, 179999, 184167, 186720, 187628, 188958, 189458, 189534,\n",
       "        191014, 191884, 192368, 192625, 192923, 193843, 196041, 198716,\n",
       "        203522, 204352, 205051, 205900, 206668, 206717, 206924, 211842,\n",
       "        212478, 214141, 215618, 216774, 217665, 217898, 222193, 223908,\n",
       "        225601, 225951, 226624, 226813, 227455, 231651, 232389, 232916,\n",
       "        232965, 235117, 235774, 235801, 236502, 237429, 237742, 238360,\n",
       "        238719, 239040, 239578, 239603, 243272, 246145, 246197, 246357,\n",
       "        246659, 247821, 253543, 254364, 256139, 256225, 257705, 258629,\n",
       "        259381, 260337, 261899, 262064, 262772, 264105, 265806, 266275,\n",
       "        267140, 267473, 269650, 271344, 275505, 275855, 276075, 276116,\n",
       "        276794, 278651, 279506, 279607, 279937, 280584, 280809, 283822,\n",
       "        285309, 287561, 287808, 289232, 289657, 290468, 291541, 292251,\n",
       "        293027, 294208, 294258, 294267, 294603, 294840, 295615, 299905,\n",
       "        300534, 300786, 302500, 303134, 303153, 305751, 305923, 307832,\n",
       "        308087, 308090, 311207, 311276, 311530, 311540, 311671, 312122,\n",
       "        312832, 312872, 313807, 314970, 317437, 318395, 320254, 322313,\n",
       "        322976, 326469, 326549, 327446, 327730, 328532, 329030, 330615,\n",
       "        332466, 332607, 332668, 333140, 333706, 334169, 334285, 334713,\n",
       "        336497, 337142, 337497, 337927, 338281, 340139, 341421, 341947,\n",
       "        342020, 342875, 343645, 344783, 345083, 345935, 347608, 347682,\n",
       "        349281, 350393, 350706, 351249, 352735, 353372, 354186, 357915,\n",
       "        361391, 363964, 365373, 365705, 365789, 365876, 366609, 367511,\n",
       "        368301, 369219, 370364, 372083, 372709, 373855, 375467, 375561,\n",
       "        376907, 377390, 377502, 378057, 378377, 378781, 382487, 383313,\n",
       "        384917, 385162, 385585, 386791, 387205, 388695, 388910, 389711,\n",
       "        390648, 391008, 393367, 393372, 394450, 394883, 395387, 398055,\n",
       "        401787, 402755, 402948, 408559, 409065, 409533, 409731, 412711,\n",
       "        412854, 414220, 414536, 415392, 415484, 415494, 415899, 416470,\n",
       "        417926, 418200, 422242, 422310, 423812, 424268, 425332, 427937,\n",
       "        430059, 431020, 433729, 435096, 436579, 436785, 437987, 438007,\n",
       "        438304, 439158, 441170, 441373, 442661, 444529, 444810, 445851,\n",
       "        447488, 448462, 449349, 450460, 451406, 452638, 453789, 453817,\n",
       "        454215, 454297, 455622, 456183, 457315, 458758, 459538, 459924,\n",
       "        460902, 465903, 466247, 466369, 466376, 466992, 467515, 468038,\n",
       "        468901, 470422, 471054, 472129, 474053, 474122, 474989, 475180,\n",
       "        476270, 476955, 478218, 479438, 479647, 479710, 479771, 479783,\n",
       "        480140, 480173, 482265, 484011, 484107, 484164, 485140, 485948,\n",
       "        487182, 488274, 488807, 490130, 490258, 492021, 492593, 492871,\n",
       "        494256, 494539, 494667, 494939, 496905, 497069, 497565, 497577,\n",
       "        501030, 501590, 501591, 501908, 504885, 505337, 506619, 507685,\n",
       "        509128, 510513, 510706, 511496, 512856, 514913, 519646, 519908,\n",
       "        521016, 521589, 521840, 522008, 522188, 523042, 524557, 524611,\n",
       "        524865, 527097, 527788, 528976, 530121, 531572, 535751, 536183,\n",
       "        540569, 541061, 542293, 544010, 544190, 544198, 544310, 545507,\n",
       "        546550, 549288, 552197, 553395, 553801, 558620, 559352, 560234,\n",
       "        562286, 562338, 562653, 563556, 564647, 564755, 568086, 570583,\n",
       "        571456, 571558, 573363, 573562, 573912, 574470, 575023, 576501,\n",
       "        576541, 581263, 581999, 582939, 583272, 585341, 586413, 587785,\n",
       "        590316, 591100, 594800, 595741, 596716, 598590, 600283, 600608,\n",
       "        604586, 606087, 607048, 607267, 611335, 611633, 611720, 612673,\n",
       "        615049, 615135, 615859, 616056, 618390, 620984, 621269, 621742,\n",
       "        622890, 625544, 625932, 626418, 627869, 628952, 630754, 630873,\n",
       "        631062, 631462, 633461, 633636, 635329, 638526, 638942, 639849,\n",
       "        640272, 640345, 640629, 642371, 642482, 644615, 644689, 646077,\n",
       "        648392, 650499, 651113, 652639, 654421, 654665, 657326, 657588,\n",
       "        661717, 662174, 662428, 664661, 664836, 666347, 668224, 668737,\n",
       "        668895, 669063, 669684, 671957, 672036, 672805, 672833, 673096,\n",
       "        674900, 676573, 677433, 677553, 677749, 678086, 678177, 679845,\n",
       "        681369, 681730, 682936, 683202, 683364, 683587, 683795, 685080,\n",
       "        686375, 686505, 687251, 687461, 689402, 689888, 690611, 691401,\n",
       "        691848, 692279, 693381, 695543, 696555, 697062, 697610, 700333,\n",
       "        700500, 701429, 703131, 703261, 703623, 704178, 706689, 708419,\n",
       "        709449, 711337, 711418, 711431, 711936, 712169, 713066, 714345,\n",
       "        714850, 715112, 715657, 716383, 717588, 717607, 718323, 719164,\n",
       "        719877, 720718, 720722, 721318, 721373, 722018, 722102, 722277,\n",
       "        722787, 722820, 722828, 722884, 723138, 725388, 727363, 727771,\n",
       "        729168, 730277, 730705, 731007, 731826, 732423, 732809, 732996,\n",
       "        733322, 735605, 736208, 736403, 737200, 737504, 739763, 740052,\n",
       "        740065, 741076, 741097, 742584, 744336, 744988, 745544, 745836,\n",
       "        746337, 746569, 748439, 748488, 750145, 753031, 753596, 754520,\n",
       "        755107, 756281, 758075, 758442, 758783, 760066, 760219, 761894,\n",
       "        764460, 765153, 765515, 768773, 768927, 769293, 770432, 770915,\n",
       "        771256, 771973, 772393, 773897, 776349, 777504, 777807, 778461,\n",
       "        779566, 780714, 783721, 784177, 784575, 785243, 785981, 786272,\n",
       "        787476, 787890, 788934, 790270, 792344, 793679, 795825, 797637,\n",
       "        799543, 801978, 803450, 804625, 805370, 806174, 806407, 806453,\n",
       "        808083, 809072, 809288, 811617, 811962, 812279, 812318, 812444,\n",
       "        813118, 813508, 814981, 815407, 816062, 816902, 817528, 818381,\n",
       "        819672, 819787, 822639, 823257, 824759, 825097, 825227, 825457,\n",
       "        825819, 827124, 828238, 829521, 829599, 829701, 831016, 831071,\n",
       "        832896, 834112, 834428, 835584, 835950, 836113, 836187, 836371,\n",
       "        839097, 839241, 841582, 842042, 844406, 844925, 845319, 845419,\n",
       "        847674, 847694, 848175, 851000, 855033, 855099, 856519, 858028,\n",
       "        858815, 859037, 859874, 861256, 861685, 864765, 867022, 868894,\n",
       "        869873, 871687, 871850, 873950, 875425, 875465, 875877, 876365,\n",
       "        877413, 877505, 879288, 880323, 882544, 882802, 885914, 886141,\n",
       "        887892, 889170, 889776, 890241, 890243, 890755, 891885, 892530]),)"
      ]
     },
     "execution_count": 11,
     "metadata": {},
     "output_type": "execute_result"
    }
   ],
   "source": [
    "np.where(result > 0.5)"
   ]
  },
  {
   "cell_type": "code",
   "execution_count": 5,
   "metadata": {
    "ExecuteTime": {
     "end_time": "2017-11-28T22:48:33.392319Z",
     "start_time": "2017-11-28T22:48:29.823393Z"
    }
   },
   "outputs": [],
   "source": [
    "f = open('result.csv', 'w') # 書き込みモードで開く\n",
    "\n",
    "for i in range(len(id)):\n",
    "    f.write(str(id[i])+','+str(result[i])+'\\n')\n",
    "    \n",
    "f.close() # ファイルを閉じる"
   ]
  },
  {
   "cell_type": "code",
   "execution_count": 8,
   "metadata": {
    "ExecuteTime": {
     "end_time": "2017-11-27T21:52:17.791431Z",
     "start_time": "2017-11-27T21:52:17.482941Z"
    }
   },
   "outputs": [
    {
     "name": "stdout",
     "output_type": "stream",
     "text": [
      "train: AdaBoostClassifier 0.960666666667\n",
      "test: AdaBoostClassifier 0.952\n"
     ]
    }
   ],
   "source": [
    "from sklearn.ensemble import AdaBoostClassifier\n",
    "\n",
    "clf = AdaBoostClassifier(learning_rate=1.0)\n",
    "clf.fit(X_train_std, Y_train)\n",
    "print(\"train:\",clf.__class__.__name__ ,clf.score(X_train_std,Y_train))\n",
    "print(\"test:\",clf.__class__.__name__ , clf.score(X_test_std,Y_test)) # 若干、オーバーフィッティングしている"
   ]
  },
  {
   "cell_type": "code",
   "execution_count": 12,
   "metadata": {
    "ExecuteTime": {
     "end_time": "2017-11-27T21:56:54.179216Z",
     "start_time": "2017-11-27T21:55:58.529217Z"
    }
   },
   "outputs": [],
   "source": [
    "# パラメータを設定してループでまわす\n",
    "score_list = []\n",
    "\n",
    "for r in np.arange(0.00001,2,0.01):    \n",
    "    clf = AdaBoostClassifier(learning_rate=r)\n",
    "    clf.fit(X_train, Y_train)\n",
    "    score_list.append([r,clf.score(X_test,Y_test)])\n",
    "    \n",
    "score_list_df = pd.DataFrame(score_list)\n",
    "score_list_df.columns= [\"r\",\"score\"]"
   ]
  },
  {
   "cell_type": "code",
   "execution_count": 13,
   "metadata": {
    "ExecuteTime": {
     "end_time": "2017-11-27T21:56:55.941109Z",
     "start_time": "2017-11-27T21:56:55.733044Z"
    },
    "scrolled": true
   },
   "outputs": [
    {
     "data": {
      "image/png": "[encoded data removed]",
      "text/plain": [
       "<matplotlib.figure.Figure at 0x7f0a46bb59e8>"
      ]
     },
     "metadata": {},
     "output_type": "display_data"
    }
   ],
   "source": [
    "import matplotlib.pyplot as plt\n",
    "plt.plot(score_list_df.r,score_list_df.score)\n",
    "plt.xlabel(\"learning rate\")\n",
    "plt.ylabel(\"test score\")\n",
    "plt.grid(True)\n",
    "plt.show()"
   ]
  },
  {
   "cell_type": "code",
   "execution_count": 68,
   "metadata": {
    "ExecuteTime": {
     "end_time": "2017-11-27T22:20:08.666385Z",
     "start_time": "2017-11-27T22:20:06.129804Z"
    }
   },
   "outputs": [
    {
     "data": {
      "text/plain": [
       "Index(['ps_car_13', 'ps_reg_03', 'ps_car_14', 'ps_calc_10', 'ps_calc_01',\n",
       "       'ps_calc_11', 'ps_ind_03', 'ps_car_15', 'ps_reg_02', 'ps_ind_15',\n",
       "       ...\n",
       "       'ps_ind_02_cat_-1', 'ps_car_11_cat_56', 'ps_ind_13_bin_0',\n",
       "       'ps_car_04_cat_4', 'ps_ind_10_bin_1', 'ps_ind_10_bin_0',\n",
       "       'ps_car_11_cat_97', 'ps_ind_04_cat_-1', 'ps_car_11_cat_30',\n",
       "       'ps_car_10_cat_2'],\n",
       "      dtype='object', length=243)"
      ]
     },
     "execution_count": 68,
     "metadata": {},
     "output_type": "execute_result"
    },
    {
     "data": {
      "image/png": "[encoded data removed]",
      "text/plain": [
       "<matplotlib.figure.Figure at 0x7f0a82101208>"
      ]
     },
     "metadata": {},
     "output_type": "display_data"
    }
   ],
   "source": [
    "%matplotlib inline\n",
    "importances = model.feature_importances_\n",
    "indi = np.argsort(importances)[::-1]\n",
    "\n",
    "plt.bar(range(X_train.shape[1]),importances[indi])\n",
    "plt.xticks(range(X_train.shape[1]),label[indi],rotation=90)\n",
    "plt.grid(True)\n",
    "plt.tight_layout()\n",
    "\n",
    "label[indi]"
   ]
  },
  {
   "cell_type": "code",
   "execution_count": 25,
   "metadata": {
    "ExecuteTime": {
     "end_time": "2017-11-28T18:56:49.195364Z",
     "start_time": "2017-11-28T18:56:35.519563Z"
    }
   },
   "outputs": [
    {
     "name": "stdout",
     "output_type": "stream",
     "text": [
      "train: SVR 0.676857045919\n",
      "test: SVR -0.213883515482\n"
     ]
    }
   ],
   "source": [
    "from sklearn.svm import SVR\n",
    "model = SVR(kernel='rbf',  C=2)\n",
    "\n",
    "\n",
    "clf = model.fit(X_train_std, Y_train)\n",
    "\n",
    "print(\"train:\",clf.__class__.__name__ ,clf.score(X_train_std,Y_train))\n",
    "print(\"test:\",clf.__class__.__name__ , clf.score(X_test_std,Y_test))"
   ]
  }
 ],
 "metadata": {
  "kernelspec": {
   "display_name": "Python 3",
   "language": "python",
   "name": "python3"
  },
  "language_info": {
   "codemirror_mode": {
    "name": "ipython",
    "version": 3
   },
   "file_extension": ".py",
   "mimetype": "text/x-python",
   "name": "python",
   "nbconvert_exporter": "python",
   "pygments_lexer": "ipython3",
   "version": "3.6.5"
  },
  "varInspector": {
   "cols": {
    "lenName": 16,
    "lenType": 16,
    "lenVar": 40
   },
   "kernels_config": {
    "python": {
     "delete_cmd_postfix": "",
     "delete_cmd_prefix": "del ",
     "library": "var_list.py",
     "varRefreshCmd": "print(var_dic_list())"
    },
    "r": {
     "delete_cmd_postfix": ") ",
     "delete_cmd_prefix": "rm(",
     "library": "var_list.r",
     "varRefreshCmd": "cat(var_dic_list()) "
    }
   },
   "position": {
    "height": "262px",
    "left": "376.889px",
    "right": "20px",
    "top": "126px",
    "width": "350px"
   },
   "types_to_exclude": [
    "module",
    "function",
    "builtin_function_or_method",
    "instance",
    "_Feature"
   ],
   "window_display": false
  }
 },
 "nbformat": 4,
 "nbformat_minor": 2
}
