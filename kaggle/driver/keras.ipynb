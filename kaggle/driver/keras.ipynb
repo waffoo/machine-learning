{
 "cells": [
  {
   "cell_type": "code",
   "execution_count": 1,
   "metadata": {
    "ExecuteTime": {
     "end_time": "2017-12-02T02:27:18.454065Z",
     "start_time": "2017-12-02T02:27:17.925239Z"
    }
   },
   "outputs": [],
   "source": [
    "import sys\n",
    "import os\n",
    "import pandas as pd\n",
    "import numpy as np\n",
    "import warnings\n",
    "from sklearn.utils import shuffle\n",
    "from sklearn.preprocessing import StandardScaler\n",
    "from sklearn.model_selection import train_test_split\n",
    "warnings.filterwarnings('ignore')\n",
    "\n",
    "TRAIN_PATH = \"../../data/train.csv\"\n",
    "TEST_PATH = \"../../data/test.csv\"\n",
    "\n",
    "def get_data(path):\n",
    "    data = pd.read_csv(path)\n",
    "    return data\n",
    "\n",
    "def gini(actual, pred, cmpcol = 0, sortcol = 1):\n",
    "    assert( len(actual) == len(pred) )\n",
    "    all = np.asarray(np.c_[ actual, pred, np.arange(len(actual)) ],dtype=np.float)\n",
    "    all = all[ np.lexsort((all[:,2], -1*all[:,1])) ]\n",
    "    totalLosses = all[:,0].sum()\n",
    "    giniSum = all[:,0].cumsum().sum() / totalLosses\n",
    "\n",
    "    giniSum -= (len(actual) + 1) / 2.\n",
    "    return giniSum / len(actual)\n",
    " \n",
    "def gini_normalized(a, p):\n",
    "    return gini(a, p) / gini(a, a)"
   ]
  },
  {
   "cell_type": "code",
   "execution_count": null,
   "metadata": {
    "ExecuteTime": {
     "start_time": "2017-12-02T02:15:37.167Z"
    }
   },
   "outputs": [],
   "source": [
    "#手元評価用(splitする)\n",
    "data = get_data(TRAIN_PATH)\n",
    "\n",
    "#カテゴリ変数のダミー化\n",
    "calc =data.filter(regex=\"calc\").columns\n",
    "data = data.drop(calc, axis=1)\n",
    "cat = data.filter(regex=\"cat\").columns\n",
    "bin = data.filter(regex=\"bin\").columns\n",
    "cat = cat.append(bin)\n",
    "non_cat = list(set(data.columns) - set(cat))\n",
    "\n",
    "for tag in cat:\n",
    "    data[tag] = data[tag].astype(str)\n",
    "data = pd.concat((data, pd.get_dummies(data[cat])), axis=1).drop(cat,axis=1)\n",
    "\n",
    "#欠損値の存在するnon_cat値\n",
    "for tag in non_cat:\n",
    "    data[tag][data[tag]==-1] = data[tag][data[tag]!=-1].mean()\n",
    "    \n",
    "TEACHER = np.c_[data.target.values]\n",
    "data = data.drop(['id', 'target'], axis=1).values\n",
    "\n",
    "X_train, X_test, Y_train, Y_test = train_test_split(data, TEACHER, random_state=0)\n",
    "#stratify=TEACHER\n",
    "del data, TEACHER"
   ]
  },
  {
   "cell_type": "code",
   "execution_count": 2,
   "metadata": {
    "ExecuteTime": {
     "end_time": "2017-12-02T02:27:58.242174Z",
     "start_time": "2017-12-02T02:27:22.921296Z"
    }
   },
   "outputs": [],
   "source": [
    "#本番訓練用\n",
    "data = get_data(TRAIN_PATH)\n",
    "#カテゴリ変数のダミー化\n",
    "calc =data.filter(regex=\"calc\").columns\n",
    "data = data.drop(calc, axis=1)\n",
    "cat = data.filter(regex=\"cat\").columns\n",
    "bin = data.filter(regex=\"bin\").columns\n",
    "cat = cat.append(bin)\n",
    "non_cat = list(set(data.columns) - set(cat))\n",
    "\n",
    "for tag in cat:\n",
    "    data[tag] = data[tag].astype(str)\n",
    "data = pd.concat((data, pd.get_dummies(data[cat])), axis=1).drop(cat,axis=1)\n",
    "\n",
    "#欠損値の存在するnon_cat値\n",
    "for tag in non_cat:\n",
    "    data[tag][data[tag]==-1] = data[tag][data[tag]!=-1].mean()\n",
    "    \n",
    "TEACHER = np.c_[data.target.values]\n",
    "data = data.drop(['id', 'target'], axis=1).values"
   ]
  },
  {
   "cell_type": "code",
   "execution_count": 3,
   "metadata": {
    "ExecuteTime": {
     "end_time": "2017-12-02T02:32:07.568106Z",
     "start_time": "2017-12-02T02:32:06.514517Z"
    },
    "scrolled": true
   },
   "outputs": [
    {
     "name": "stderr",
     "output_type": "stream",
     "text": [
      "Using TensorFlow backend.\n"
     ]
    }
   ],
   "source": [
    "#implemented in Keras\n",
    "from keras.models import Sequential\n",
    "from keras.layers import Dense, Activation\n",
    "from keras.layers.core import Dropout\n",
    "from keras.optimizers import Adagrad, Adamax, Adam\n",
    "#from keras.layers.normalization import BatchNormalization\n",
    "\n",
    "model = Sequential()\n",
    "\n",
    "model.add(Dense(200, input_dim=218))\n",
    "#model.add(BatchNormalization())\n",
    "model.add(Activation('relu'))\n",
    "model.add(Dropout(0.5))\n",
    "\n",
    "model.add(Dense(100))\n",
    "#model.add(BatchNormalization())\n",
    "model.add(Activation('relu'))\n",
    "model.add(Dropout(0.5))\n",
    "\n",
    "model.add(Dense(1))\n",
    "model.add(Activation('sigmoid'))\n",
    "\n",
    "model.compile(loss='binary_crossentropy', optimizer=Adamax(), metrics=['accuracy'])"
   ]
  },
  {
   "cell_type": "code",
   "execution_count": 10,
   "metadata": {
    "ExecuteTime": {
     "end_time": "2017-12-02T01:43:04.350230Z",
     "start_time": "2017-12-02T01:40:58.594638Z"
    },
    "scrolled": true
   },
   "outputs": [
    {
     "name": "stdout",
     "output_type": "stream",
     "text": [
      "Epoch 1/3\n",
      "446409/446409 [==============================] - 8s 19us/step - loss: 0.1613 - acc: 0.9629\n",
      "Epoch 2/3\n",
      "446409/446409 [==============================] - 8s 18us/step - loss: 0.1558 - acc: 0.9635\n",
      "Epoch 3/3\n",
      "446409/446409 [==============================] - 8s 18us/step - loss: 0.1555 - acc: 0.9635\n",
      "148803/148803 [==============================] - 1s 6us/step\n",
      "***score*** 0.268426275003\n",
      "\n",
      "Epoch 1/3\n",
      "446409/446409 [==============================] - 8s 18us/step - loss: 0.1545 - acc: 0.9635\n",
      "Epoch 2/3\n",
      "446409/446409 [==============================] - 8s 18us/step - loss: 0.1542 - acc: 0.9635\n",
      "Epoch 3/3\n",
      "446409/446409 [==============================] - 8s 18us/step - loss: 0.1543 - acc: 0.9635\n",
      "148803/148803 [==============================] - 1s 6us/step\n",
      "***score*** 0.279219059892\n",
      "\n",
      "Epoch 1/3\n",
      "446409/446409 [==============================] - 8s 18us/step - loss: 0.1538 - acc: 0.9635\n",
      "Epoch 2/3\n",
      "446409/446409 [==============================] - 8s 18us/step - loss: 0.1535 - acc: 0.9635\n",
      "Epoch 3/3\n",
      "446409/446409 [==============================] - 8s 18us/step - loss: 0.1534 - acc: 0.9635\n",
      "148803/148803 [==============================] - 1s 6us/step\n",
      "***score*** 0.282717884453\n",
      "\n",
      "Epoch 1/3\n",
      "446409/446409 [==============================] - 8s 18us/step - loss: 0.1528 - acc: 0.9635\n",
      "Epoch 2/3\n",
      "446409/446409 [==============================] - 8s 18us/step - loss: 0.1529 - acc: 0.9635\n",
      "Epoch 3/3\n",
      "446409/446409 [==============================] - 8s 18us/step - loss: 0.1527 - acc: 0.9635\n",
      "148803/148803 [==============================] - 1s 6us/step\n",
      "***score*** 0.277328704171\n",
      "\n",
      "Epoch 1/3\n",
      "446409/446409 [==============================] - 8s 18us/step - loss: 0.1524 - acc: 0.9635\n",
      "Epoch 2/3\n",
      "446409/446409 [==============================] - 8s 18us/step - loss: 0.1520 - acc: 0.9635\n",
      "Epoch 3/3\n",
      "446409/446409 [==============================] - 8s 18us/step - loss: 0.1521 - acc: 0.9635\n",
      "148803/148803 [==============================] - 1s 6us/step\n",
      "***score*** 0.279279153041\n",
      "\n"
     ]
    }
   ],
   "source": [
    "#手元評価用\n",
    "for i in range(5):\n",
    "    model.fit(X_train, Y_train, epochs=3, batch_size=1000)\n",
    "    result = model.predict(X_test, batch_size=1000, verbose=1).T[0]\n",
    "    answer = Y_test.T[0]\n",
    "    print('***score***', gini_normalized(answer, result))\n",
    "    print()"
   ]
  },
  {
   "cell_type": "code",
   "execution_count": 4,
   "metadata": {
    "ExecuteTime": {
     "end_time": "2017-12-02T01:35:51.303553Z",
     "start_time": "2017-12-02T01:33:41.980334Z"
    },
    "scrolled": true
   },
   "outputs": [
    {
     "name": "stdout",
     "output_type": "stream",
     "text": [
      "Epoch 1/3\n",
      "446409/446409 [==============================] - 8s 19us/step - loss: 0.1714 - acc: 0.9623\n",
      "Epoch 2/3\n",
      "446409/446409 [==============================] - 8s 18us/step - loss: 0.1621 - acc: 0.9635\n",
      "Epoch 3/3\n",
      "446409/446409 [==============================] - 8s 18us/step - loss: 0.1610 - acc: 0.9635\n",
      "148803/148803 [==============================] - 1s 6us/step\n",
      "***score*** 0.25722049444\n",
      "\n",
      "Epoch 1/3\n",
      "446409/446409 [==============================] - 8s 18us/step - loss: 0.1601 - acc: 0.9635\n",
      "Epoch 2/3\n",
      "446409/446409 [==============================] - 8s 18us/step - loss: 0.1596 - acc: 0.9635\n",
      "Epoch 3/3\n",
      "446409/446409 [==============================] - 8s 19us/step - loss: 0.1585 - acc: 0.9635\n",
      "148803/148803 [==============================] - 1s 6us/step\n",
      "***score*** 0.26589511823\n",
      "\n",
      "Epoch 1/3\n",
      "446409/446409 [==============================] - 8s 18us/step - loss: 0.1577 - acc: 0.9635\n",
      "Epoch 2/3\n",
      "446409/446409 [==============================] - 8s 19us/step - loss: 0.1570 - acc: 0.9635\n",
      "Epoch 3/3\n",
      "446409/446409 [==============================] - 9s 19us/step - loss: 0.1563 - acc: 0.9635\n",
      "148803/148803 [==============================] - 1s 7us/step\n",
      "***score*** 0.274989459028\n",
      "\n",
      "Epoch 1/3\n",
      "446409/446409 [==============================] - 8s 19us/step - loss: 0.1557 - acc: 0.9635\n",
      "Epoch 2/3\n",
      "446409/446409 [==============================] - 8s 19us/step - loss: 0.1555 - acc: 0.9635\n",
      "Epoch 3/3\n",
      "446409/446409 [==============================] - 8s 19us/step - loss: 0.1547 - acc: 0.9635\n",
      "148803/148803 [==============================] - 1s 6us/step\n",
      "***score*** 0.270618445914\n",
      "\n",
      "Epoch 1/3\n",
      "446409/446409 [==============================] - 8s 19us/step - loss: 0.1545 - acc: 0.9635\n",
      "Epoch 2/3\n",
      "446409/446409 [==============================] - 8s 19us/step - loss: 0.1541 - acc: 0.9635\n",
      "Epoch 3/3\n",
      "446409/446409 [==============================] - 8s 19us/step - loss: 0.1538 - acc: 0.9635\n",
      "148803/148803 [==============================] - 1s 6us/step\n",
      "***score*** 0.279140846332\n",
      "\n"
     ]
    }
   ],
   "source": [
    "#手元評価用 #relu 200-100 dropout=0.5 \n",
    "for i in range(5):\n",
    "    model.fit(X_train, Y_train, epochs=3, batch_size=1000)\n",
    "    result = model.predict(X_test, batch_size=1000, verbose=1).T[0]\n",
    "    answer = Y_test.T[0]\n",
    "    print('***score***', gini_normalized(answer, result))\n",
    "    print()"
   ]
  },
  {
   "cell_type": "code",
   "execution_count": 4,
   "metadata": {
    "ExecuteTime": {
     "end_time": "2017-12-02T02:36:54.402014Z",
     "start_time": "2017-12-02T02:32:23.358769Z"
    }
   },
   "outputs": [
    {
     "name": "stdout",
     "output_type": "stream",
     "text": [
      "Epoch 1/20\n",
      "595212/595212 [==============================] - 17s 29us/step - loss: 0.1708 - acc: 0.9626\n",
      "Epoch 2/20\n",
      "595212/595212 [==============================] - 14s 23us/step - loss: 0.1623 - acc: 0.9636\n",
      "Epoch 3/20\n",
      "595212/595212 [==============================] - 13s 22us/step - loss: 0.1606 - acc: 0.9636\n",
      "Epoch 4/20\n",
      "595212/595212 [==============================] - 13s 21us/step - loss: 0.1597 - acc: 0.9636\n",
      "Epoch 5/20\n",
      "595212/595212 [==============================] - 13s 21us/step - loss: 0.1585 - acc: 0.9636\n",
      "Epoch 6/20\n",
      "595212/595212 [==============================] - 14s 24us/step - loss: 0.1573 - acc: 0.9636\n",
      "Epoch 7/20\n",
      "595212/595212 [==============================] - 14s 23us/step - loss: 0.1562 - acc: 0.9636\n",
      "Epoch 8/20\n",
      "595212/595212 [==============================] - 14s 23us/step - loss: 0.1556 - acc: 0.9636\n",
      "Epoch 9/20\n",
      "595212/595212 [==============================] - 14s 24us/step - loss: 0.1547 - acc: 0.9636\n",
      "Epoch 10/20\n",
      "595212/595212 [==============================] - 13s 22us/step - loss: 0.1542 - acc: 0.9636\n",
      "Epoch 11/20\n",
      "595212/595212 [==============================] - 13s 21us/step - loss: 0.1539 - acc: 0.9636\n",
      "Epoch 12/20\n",
      "595212/595212 [==============================] - 13s 22us/step - loss: 0.1535 - acc: 0.9636\n",
      "Epoch 13/20\n",
      "595212/595212 [==============================] - 14s 24us/step - loss: 0.1532 - acc: 0.9636\n",
      "Epoch 14/20\n",
      "595212/595212 [==============================] - 13s 21us/step - loss: 0.1531 - acc: 0.9636\n",
      "Epoch 15/20\n",
      "595212/595212 [==============================] - 13s 22us/step - loss: 0.1528 - acc: 0.9636\n",
      "Epoch 16/20\n",
      "595212/595212 [==============================] - 13s 21us/step - loss: 0.1528 - acc: 0.9636\n",
      "Epoch 17/20\n",
      "595212/595212 [==============================] - 13s 21us/step - loss: 0.1525 - acc: 0.9636\n",
      "Epoch 18/20\n",
      "595212/595212 [==============================] - 13s 21us/step - loss: 0.1524 - acc: 0.9636\n",
      "Epoch 19/20\n",
      "595212/595212 [==============================] - 13s 21us/step - loss: 0.1522 - acc: 0.9636\n",
      "Epoch 20/20\n",
      "595212/595212 [==============================] - 13s 21us/step - loss: 0.1522 - acc: 0.9636\n",
      "595212/595212 [==============================] - 3s 6us/step\n"
     ]
    },
    {
     "data": {
      "text/plain": [
       "0.31926231188044057"
      ]
     },
     "execution_count": 4,
     "metadata": {},
     "output_type": "execute_result"
    }
   ],
   "source": [
    "#本番訓練用\n",
    "model.fit(data, TEACHER, epochs=20, batch_size=1000)\n",
    "result = model.predict(data, batch_size=1000, verbose=1).T[0]\n",
    "answer = TEACHER.T[0]\n",
    "gini_normalized(answer, result)"
   ]
  },
  {
   "cell_type": "code",
   "execution_count": 5,
   "metadata": {
    "ExecuteTime": {
     "end_time": "2017-12-02T02:56:38.467258Z",
     "start_time": "2017-12-02T02:56:38.410137Z"
    }
   },
   "outputs": [],
   "source": [
    "del result\n",
    "del answer\n",
    "del data\n",
    "del TEACHER"
   ]
  },
  {
   "cell_type": "code",
   "execution_count": 6,
   "metadata": {
    "ExecuteTime": {
     "end_time": "2017-12-02T02:57:38.547817Z",
     "start_time": "2017-12-02T02:56:40.758612Z"
    }
   },
   "outputs": [
    {
     "name": "stdout",
     "output_type": "stream",
     "text": [
      "892816/892816 [==============================] - 7s 8us/step\n"
     ]
    }
   ],
   "source": [
    "#提出側\n",
    "data = get_data(TEST_PATH)\n",
    "\n",
    "calc =data.filter(regex=\"calc\").columns\n",
    "data = data.drop(calc, axis=1)\n",
    "cat = data.filter(regex=\"cat\").columns\n",
    "bin = data.filter(regex=\"bin\").columns\n",
    "cat = cat.append(bin)\n",
    "non_cat = list(set(data.columns) - set(cat))\n",
    "\n",
    "for tag in cat:\n",
    "    data[tag] = data[tag].astype(str)\n",
    "data = pd.concat((data, pd.get_dummies(data[cat])), axis=1).drop(cat,axis=1)\n",
    "\n",
    "#欠損値の存在するnon_cat値\n",
    "for tag in non_cat:\n",
    "    data[tag][data[tag]==-1] = data[tag][data[tag]!=-1].mean()\n",
    "    \n",
    "#不要な行を削除しつつnp.arrayに変換\n",
    "id = data.id.values\n",
    "data = data.drop('id', axis=1).values\n",
    "\n",
    "result = model.predict(data, batch_size=500, verbose=1).T[0]"
   ]
  },
  {
   "cell_type": "code",
   "execution_count": 7,
   "metadata": {
    "ExecuteTime": {
     "end_time": "2017-12-02T02:57:55.035278Z",
     "start_time": "2017-12-02T02:57:51.531123Z"
    }
   },
   "outputs": [],
   "source": [
    "f = open('result.csv', 'w') # 書き込みモードで開く\n",
    "\n",
    "f.write('id,target\\n')\n",
    "for i in range(len(id)):\n",
    "    f.write(str(id[i])+','+str(result[i])+'\\n')\n",
    "    \n",
    "f.close() # ファイルを閉じる"
   ]
  }
 ],
 "metadata": {
  "kernelspec": {
   "display_name": "Python 3",
   "language": "python",
   "name": "python3"
  },
  "language_info": {
   "codemirror_mode": {
    "name": "ipython",
    "version": 3
   },
   "file_extension": ".py",
   "mimetype": "text/x-python",
   "name": "python",
   "nbconvert_exporter": "python",
   "pygments_lexer": "ipython3",
   "version": "3.6.5"
  },
  "varInspector": {
   "cols": {
    "lenName": 16,
    "lenType": 16,
    "lenVar": 40
   },
   "kernels_config": {
    "python": {
     "delete_cmd_postfix": "",
     "delete_cmd_prefix": "del ",
     "library": "var_list.py",
     "varRefreshCmd": "print(var_dic_list())"
    },
    "r": {
     "delete_cmd_postfix": ") ",
     "delete_cmd_prefix": "rm(",
     "library": "var_list.r",
     "varRefreshCmd": "cat(var_dic_list()) "
    }
   },
   "oldHeight": 367.77778,
   "position": {
    "height": "390px",
    "left": "355.875px",
    "right": "20px",
    "top": "107px",
    "width": "350px"
   },
   "types_to_exclude": [
    "module",
    "function",
    "builtin_function_or_method",
    "instance",
    "_Feature"
   ],
   "varInspector_section_display": "block",
   "window_display": false
  }
 },
 "nbformat": 4,
 "nbformat_minor": 2
}
