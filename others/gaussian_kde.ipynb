{
 "cells": [
  {
   "cell_type": "markdown",
   "metadata": {},
   "source": [
    "## Gaussian Kernel Density Estimation"
   ]
  },
  {
   "cell_type": "code",
   "execution_count": 1,
   "metadata": {
    "ExecuteTime": {
     "end_time": "2018-06-06T08:58:40.690288Z",
     "start_time": "2018-06-06T08:58:40.396257Z"
    }
   },
   "outputs": [],
   "source": [
    "import numpy as np\n",
    "import matplotlib.pyplot as plt \n",
    "from math import *\n",
    "\n",
    "def func(a): # make sample array \n",
    "    if a < 1/8:\n",
    "        return sqrt(8 * a)\n",
    "    if a < 1/4:\n",
    "        return 2-sqrt(2-8*a)\n",
    "    if a < 1/2:\n",
    "        return 4 * a + 1\n",
    "    if a < 3/4:\n",
    "        return sqrt(4 * a - 2) + 3\n",
    "    else:\n",
    "        return 5 - sqrt(4 - 4 * a)\n",
    "    \n",
    "class KDE:\n",
    "    def __init__(self, X, h):\n",
    "        self.sample = X\n",
    "        self.h = h\n",
    "        self.p = np.vectorize(self.p_)\n",
    "    \n",
    "    def K(self, x):\n",
    "        return np.exp(-x**2/2)/sqrt(2*pi)\n",
    "\n",
    "    def p_(self, x):\n",
    "        x_ = (x - self.sample) / self.h\n",
    "        return self.K(x_).sum() / (n * self.h)"
   ]
  },
  {
   "cell_type": "code",
   "execution_count": 2,
   "metadata": {
    "ExecuteTime": {
     "end_time": "2018-06-06T08:58:42.675839Z",
     "start_time": "2018-06-06T08:58:42.268358Z"
    }
   },
   "outputs": [
    {
     "data": {
      "text/plain": [
       "[<matplotlib.lines.Line2D at 0x7f10d8577eb8>]"
      ]
     },
     "execution_count": 2,
     "metadata": {},
     "output_type": "execute_result"
    },
    {
     "data": {
      "image/png": "[encoded data removed]",
      "text/plain": [
       "<Figure size 432x288 with 1 Axes>"
      ]
     },
     "metadata": {},
     "output_type": "display_data"
    }
   ],
   "source": [
    "n = 10000 #num of sample points\n",
    "arr = np.random.rand(n)\n",
    "arr = np.vectorize(func)(arr)\n",
    "plt.hist(arr, 50, density=True)\n",
    "\n",
    "h = 0.02\n",
    "X = np.arange(0 + h/2, 5, h)\n",
    "\n",
    "kde = KDE(arr, h)\n",
    "plt.plot(X, kde.p(X), 'r')"
   ]
  },
  {
   "cell_type": "code",
   "execution_count": 3,
   "metadata": {
    "ExecuteTime": {
     "end_time": "2018-06-06T08:58:55.820895Z",
     "start_time": "2018-06-06T08:58:44.107924Z"
    }
   },
   "outputs": [
    {
     "name": "stdout",
     "output_type": "stream",
     "text": [
      "h = 0.005 : -1.541\n",
      "h = 0.01 : -1.533\n",
      "h = 0.02 : -1.53\n",
      "h = 0.05 : -1.532\n",
      "h = 0.1 : -1.54\n",
      "h = 0.5 : -1.66\n"
     ]
    }
   ],
   "source": [
    "#Cross-validate\n",
    "cut = 10\n",
    "\n",
    "w = len(arr)//cut\n",
    "for h in [0.005, 0.01, 0.02, 0.05, 0.1, 0.5]:\n",
    "    buf = []\n",
    "    for i in range(cut):\n",
    "        kde = KDE(np.delete(arr, range(i*w, (i+1)*w)), h)\n",
    "        buf.append(np.log(kde.p(arr[i*w:(i+1)*w])).mean())\n",
    "\n",
    "    print('h =', h, ':', round(np.array(buf).mean(), 3))"
   ]
  }
 ],
 "metadata": {
  "kernelspec": {
   "display_name": "Python 3",
   "language": "python",
   "name": "python3"
  },
  "language_info": {
   "codemirror_mode": {
    "name": "ipython",
    "version": 3
   },
   "file_extension": ".py",
   "mimetype": "text/x-python",
   "name": "python",
   "nbconvert_exporter": "python",
   "pygments_lexer": "ipython3",
   "version": "3.6.5"
  },
  "varInspector": {
   "cols": {
    "lenName": 16,
    "lenType": 16,
    "lenVar": 40
   },
   "kernels_config": {
    "python": {
     "delete_cmd_postfix": "",
     "delete_cmd_prefix": "del ",
     "library": "var_list.py",
     "varRefreshCmd": "print(var_dic_list())"
    },
    "r": {
     "delete_cmd_postfix": ") ",
     "delete_cmd_prefix": "rm(",
     "library": "var_list.r",
     "varRefreshCmd": "cat(var_dic_list()) "
    }
   },
   "types_to_exclude": [
    "module",
    "function",
    "builtin_function_or_method",
    "instance",
    "_Feature"
   ],
   "window_display": false
  }
 },
 "nbformat": 4,
 "nbformat_minor": 2
}
