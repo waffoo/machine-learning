{
 "cells": [
  {
   "cell_type": "code",
   "execution_count": 174,
   "metadata": {},
   "outputs": [
    {
     "name": "stdout",
     "output_type": "stream",
     "text": [
      "[Errno 2] No such file or directory: 'six/'\n",
      "/home/wa/jupyter/six\n"
     ]
    }
   ],
   "source": [
    "cd six/"
   ]
  },
  {
   "cell_type": "code",
   "execution_count": 557,
   "metadata": {
    "collapsed": true
   },
   "outputs": [],
   "source": [
    "import pandas as pd\n",
    "from scipy import stats\n",
    "import matplotlib.pyplot as plt\n",
    "import seaborn as sns\n",
    "\n",
    "station = pd.read_csv(\"201608_station_data.csv\", sep=',', parse_dates=[\"installation\"])\n",
    "status = pd.read_csv(\"ten.csv\", sep=',', parse_dates=[\"time\"])\n",
    "trip = pd.read_csv(\"201608_trip_data.csv\", sep=',')\n",
    "weather = pd.read_csv(\"201608_weather_data.csv\", sep=',',parse_dates=[\"PDT\"])\n",
    "\n",
    "piyo = weather\n",
    "\n",
    "station = station.dropna()\n",
    "station[[\"station_id\",\"dockcount\"]] = station[[\"station_id\",\"dockcount\"]].astype(int)\n",
    "trip[\"day\"] = pd.to_datetime(trip[\"Start Date\"]).dt.normalize()\n",
    "trip['hour'] = pd.to_datetime(trip['Start Date']).dt.hour\n",
    "trip[\"Subscriber Type\"] = trip[\"Subscriber Type\"].replace('Subscriber', 0).replace('Customer', 1)\n",
    "weather.PrecipitationIn = weather.PrecipitationIn.replace('T', 0.005).astype(float)\n",
    "weather.ZIP = weather.ZIP.replace(94107, 'San Francisco').replace(94063, 'Redwood City').replace(94301, 'Palo Alto'\n",
    "                                ).replace(94041, 'Mountain View').replace(95113, 'San Jose')\n",
    "weather.rename(columns={'ZIP': 'landmark', 'PDT':'day'},inplace=True)"
   ]
  },
  {
   "cell_type": "code",
   "execution_count": 558,
   "metadata": {
    "collapsed": true
   },
   "outputs": [],
   "source": [
    "sta = station[[\"station_id\", \"landmark\",'lat', 'long']]\n",
    "start = sta.rename(columns={'station_id':'Start Terminal', 'landmark':'Start City', 'lat':'start_lat', 'long':'start_long'})\n",
    "end = sta.rename(columns={'station_id': 'End Terminal', 'landmark':'End City', 'lat':'end_lat', 'long':'end_long'})\n",
    "\n",
    "status['use_rate'] = status.docks_available / (status.docks_available + status.bikes_available)\n",
    "status['day'] = pd.to_datetime(status.time.dt.date)\n",
    "status['hour'] = status.time.dt.hour\n",
    "status['youbi'] = status.day.dt.weekday \n",
    "\n",
    "voy = trip[[\"day\",'hour', \"Start Terminal\", \"End Terminal\", \"Duration\",\"Subscriber Type\"]]\n",
    "tenki = weather[[\"day\", \"Mean TemperatureF\",\" Mean Humidity\",\" Mean Sea Level PressureIn\",\n",
    "                 \" Mean VisibilityMiles\", \" Mean Wind SpeedMPH\",\"PrecipitationIn\", \" CloudCover\", \"landmark\"]]\n"
   ]
  },
  {
   "cell_type": "code",
   "execution_count": 559,
   "metadata": {},
   "outputs": [],
   "source": [
    "status = pd.merge(status, sta, how='left', on=['station_id'])\n",
    "status = pd.merge(status, tenki, how='left', on=['day', 'landmark']) #statusの各駅に都市名と天気を追加したもの\n",
    "\n",
    "tenki2 = tenki.rename(columns={'landmark':'Start City'})\n",
    "tmp = pd.merge(voy, start,how='left',on='Start Terminal')\n",
    "voy_city = pd.merge(tmp, end, how='left', on='End Terminal')\n",
    "data = pd.merge(voy_city, tenki2, how='left', on=['day', 'Start City']).dropna()\n",
    "data['dis'] = abs(data.start_lat - data.end_lat) + abs(data.start_long - data.end_long)\n",
    "data['youbi'] = data.day.dt.weekday\n",
    "data['mon'] = data.day.dt.month\n",
    "#tripに都市名と天気と距離を追加したもの"
   ]
  },
  {
   "cell_type": "code",
   "execution_count": 1009,
   "metadata": {
    "scrolled": false
   },
   "outputs": [],
   "source": [
    "#重回帰分析の下準備\n",
    "\n",
    "city = 'San Francisco'\n",
    "tmp40=data[data['Start City']==city].groupby('day').Duration.count().reset_index()\n",
    "tmp40.rename(columns={'Duration':'cnt'},inplace=True)\n",
    "tmp40['youbi']=tmp40.day.dt.weekday\n",
    "tmp40['mon'] = tmp40.day.dt.month\n",
    "tmp40['weekend'] = tmp40.youbi.apply(lambda x: 1 if(x >= 5) else 0)\n",
    "tmp40['edge'] = tmp40.youbi.apply(lambda x:\n",
    "                                  1 if(x == 0 or x == 4) else 0)\n",
    "\n",
    "hoge = tmp40\n",
    "otenki=tenki[tenki.landmark==city][['day', 'PrecipitationIn']]\n",
    "tmp40=pd.merge(tmp40, otenki, how='left')\n",
    "tmp40['rain'] = tmp40.PrecipitationIn.apply(lambda x: 1 if(x > 0) else 0)"
   ]
  },
  {
   "cell_type": "code",
   "execution_count": 1015,
   "metadata": {
    "scrolled": true
   },
   "outputs": [
    {
     "name": "stdout",
     "output_type": "stream",
     "text": [
      "0.818582465788 -809.51858562 -122.24677452 12.241001114 -302.164717338 -98.9220634689 342.110992147\n"
     ]
    }
   ],
   "source": [
    "#重回帰分析\n",
    "from sklearn.model_selection import train_test_split\n",
    "from sklearn import linear_model\n",
    "from sklearn.preprocessing import StandardScaler\n",
    "\n",
    "hoge=pd.merge(hoge,tenki[tenki.landmark==city], how='left')\n",
    "hoge['rain'] = hoge.PrecipitationIn.apply(\n",
    "    lambda x: 1 if(x > 0) else 0)\n",
    "\n",
    "ttt0 = 0\n",
    "ttt1 = 0\n",
    "ttt2 = 0\n",
    "ttt3 = 0\n",
    "ttt4 = 0\n",
    "ttt5 = 0\n",
    "ttt6 = 0\n",
    "sc = StandardScaler()\n",
    "\n",
    "for i in range(2000):\n",
    "    l_model = linear_model.LinearRegression()\n",
    "    X = hoge[['weekend', 'edge', 'Mean TemperatureF','PrecipitationIn' ,'rain']]\n",
    "    Y = hoge.cnt\n",
    "\n",
    "    X_train, X_test, y_train, y_test = train_test_split(\n",
    "        X, Y, test_size=0.2, random_state=i)\n",
    "\n",
    "    #sc.fit(X_train)\n",
    "    #X_train = sc.transform(X_train)\n",
    "    #X_test = sc.transform(X_test)\n",
    "\n",
    "    clf =l_model.fit(X_train, y_train)\n",
    " \n",
    "    ttt0 += clf.score(X_test, y_test)\n",
    "    ttt1 += clf.coef_[0]\n",
    "    ttt2 += clf.coef_[1]\n",
    "    ttt3 += clf.coef_[2]\n",
    "    ttt4 += clf.coef_[3]\n",
    "    ttt5 += clf.coef_[4]\n",
    "    ttt6 += clf.intercept_\n",
    "\n",
    "#print ('train:', clf.score(X_train, y_train))\n",
    "#print ('test:', clf.score(X_test, y_test))\n",
    "\n",
    "#print (pd.DataFrame({'Name':X.columns,\n",
    "            #'Coefs':clf.coef_}).sort_values(by='Coefs'))\n",
    "\n",
    "#print(clf.intercept_)\n",
    "print (ttt0 / 2000, ttt1/2000, ttt2/2000, ttt3/2000, ttt4/2000, ttt5/2000, ttt6/2000)"
   ]
  },
  {
   "cell_type": "code",
   "execution_count": 887,
   "metadata": {
    "scrolled": true
   },
   "outputs": [
    {
     "data": {
      "text/html": [
       "<div>\n",
       "<table border=\"1\" class=\"dataframe\">\n",
       "  <thead>\n",
       "    <tr style=\"text-align: right;\">\n",
       "      <th></th>\n",
       "      <th>Start Terminal</th>\n",
       "      <th>End Terminal</th>\n",
       "      <th>times</th>\n",
       "      <th>Start City</th>\n",
       "      <th>start_lat</th>\n",
       "      <th>start_long</th>\n",
       "    </tr>\n",
       "  </thead>\n",
       "  <tbody>\n",
       "    <tr>\n",
       "      <th>0</th>\n",
       "      <td>65</td>\n",
       "      <td>69</td>\n",
       "      <td>3341</td>\n",
       "      <td>San Francisco</td>\n",
       "      <td>37.771058</td>\n",
       "      <td>-122.402717</td>\n",
       "    </tr>\n",
       "    <tr>\n",
       "      <th>1</th>\n",
       "      <td>67</td>\n",
       "      <td>69</td>\n",
       "      <td>3035</td>\n",
       "      <td>San Francisco</td>\n",
       "      <td>37.776619</td>\n",
       "      <td>-122.417385</td>\n",
       "    </tr>\n",
       "    <tr>\n",
       "      <th>2</th>\n",
       "      <td>50</td>\n",
       "      <td>60</td>\n",
       "      <td>2986</td>\n",
       "      <td>San Francisco</td>\n",
       "      <td>37.795392</td>\n",
       "      <td>-122.394203</td>\n",
       "    </tr>\n",
       "    <tr>\n",
       "      <th>3</th>\n",
       "      <td>61</td>\n",
       "      <td>50</td>\n",
       "      <td>2781</td>\n",
       "      <td>San Francisco</td>\n",
       "      <td>37.780526</td>\n",
       "      <td>-122.390288</td>\n",
       "    </tr>\n",
       "    <tr>\n",
       "      <th>4</th>\n",
       "      <td>60</td>\n",
       "      <td>74</td>\n",
       "      <td>2605</td>\n",
       "      <td>San Francisco</td>\n",
       "      <td>37.804770</td>\n",
       "      <td>-122.403234</td>\n",
       "    </tr>\n",
       "  </tbody>\n",
       "</table>\n",
       "</div>"
      ],
      "text/plain": [
       "   Start Terminal  End Terminal  times     Start City  start_lat  start_long\n",
       "0              65            69   3341  San Francisco  37.771058 -122.402717\n",
       "1              67            69   3035  San Francisco  37.776619 -122.417385\n",
       "2              50            60   2986  San Francisco  37.795392 -122.394203\n",
       "3              61            50   2781  San Francisco  37.780526 -122.390288\n",
       "4              60            74   2605  San Francisco  37.804770 -122.403234"
      ]
     },
     "execution_count": 887,
     "metadata": {},
     "output_type": "execute_result"
    }
   ],
   "source": [
    "tmp50=data.groupby(['Start Terminal', 'End Terminal']).day.count(\n",
    "    ).sort_values(ascending=False).reset_index(\n",
    "    ).rename(columns={'day':'times'}) #駅間移動ランキング\n",
    "pd.merge(tmp50, start, how='left').head(5)"
   ]
  },
  {
   "cell_type": "code",
   "execution_count": 512,
   "metadata": {
    "scrolled": false
   },
   "outputs": [
    {
     "data": {
      "text/plain": [
       "station_id\n",
       "91    0.914286\n",
       "62    0.794414\n",
       "45    0.728736\n",
       "63    0.718797\n",
       "57    0.713333\n",
       "dtype: float64"
      ]
     },
     "execution_count": 512,
     "metadata": {},
     "output_type": "execute_result"
    }
   ],
   "source": [
    "status[status.youbi==6].groupby([\n",
    "    'station_id', 'hour']).use_rate.mean().unstack(\n",
    "    ).T.max().sort_values(ascending=False).head()\n",
    "#平日の最大使用率上位ランキング"
   ]
  },
  {
   "cell_type": "code",
   "execution_count": 983,
   "metadata": {
    "scrolled": false
   },
   "outputs": [
    {
     "data": {
      "text/html": [
       "<div>\n",
       "<table border=\"1\" class=\"dataframe\">\n",
       "  <thead>\n",
       "    <tr style=\"text-align: right;\">\n",
       "      <th></th>\n",
       "      <th>station_id</th>\n",
       "      <th>0</th>\n",
       "      <th>landmark</th>\n",
       "      <th>lat</th>\n",
       "      <th>long</th>\n",
       "    </tr>\n",
       "  </thead>\n",
       "  <tbody>\n",
       "    <tr>\n",
       "      <th>0</th>\n",
       "      <td>70</td>\n",
       "      <td>0.494564</td>\n",
       "      <td>San Francisco</td>\n",
       "      <td>37.776617</td>\n",
       "      <td>-122.395260</td>\n",
       "    </tr>\n",
       "    <tr>\n",
       "      <th>1</th>\n",
       "      <td>69</td>\n",
       "      <td>0.489841</td>\n",
       "      <td>San Francisco</td>\n",
       "      <td>37.776600</td>\n",
       "      <td>-122.395470</td>\n",
       "    </tr>\n",
       "    <tr>\n",
       "      <th>2</th>\n",
       "      <td>90</td>\n",
       "      <td>0.397849</td>\n",
       "      <td>San Francisco</td>\n",
       "      <td>37.780148</td>\n",
       "      <td>-122.403158</td>\n",
       "    </tr>\n",
       "    <tr>\n",
       "      <th>3</th>\n",
       "      <td>73</td>\n",
       "      <td>0.395321</td>\n",
       "      <td>San Francisco</td>\n",
       "      <td>37.797900</td>\n",
       "      <td>-122.405942</td>\n",
       "    </tr>\n",
       "    <tr>\n",
       "      <th>4</th>\n",
       "      <td>50</td>\n",
       "      <td>0.385273</td>\n",
       "      <td>San Francisco</td>\n",
       "      <td>37.795392</td>\n",
       "      <td>-122.394203</td>\n",
       "    </tr>\n",
       "  </tbody>\n",
       "</table>\n",
       "</div>"
      ],
      "text/plain": [
       "   station_id         0       landmark        lat        long\n",
       "0          70  0.494564  San Francisco  37.776617 -122.395260\n",
       "1          69  0.489841  San Francisco  37.776600 -122.395470\n",
       "2          90  0.397849  San Francisco  37.780148 -122.403158\n",
       "3          73  0.395321  San Francisco  37.797900 -122.405942\n",
       "4          50  0.385273  San Francisco  37.795392 -122.394203"
      ]
     },
     "execution_count": 983,
     "metadata": {},
     "output_type": "execute_result"
    }
   ],
   "source": [
    "jikei=status.groupby(['station_id','hour']).use_rate.mean().unstack().T\n",
    "tmp20=(jikei.max()-jikei.min()).sort_values(ascending=False).reset_index()\n",
    "tmp21=pd.merge(tmp20, sta, how='left') #日較差の大きいstation\n",
    "tmp21[tmp21[0]>0.3].head()"
   ]
  },
  {
   "cell_type": "code",
   "execution_count": 985,
   "metadata": {
    "scrolled": true
   },
   "outputs": [
    {
     "data": {
      "text/html": [
       "<div>\n",
       "<table border=\"1\" class=\"dataframe\">\n",
       "  <thead>\n",
       "    <tr style=\"text-align: right;\">\n",
       "      <th></th>\n",
       "      <th>station_id</th>\n",
       "      <th>use_rate</th>\n",
       "      <th>landmark</th>\n",
       "      <th>lat</th>\n",
       "      <th>long</th>\n",
       "    </tr>\n",
       "  </thead>\n",
       "  <tbody>\n",
       "    <tr>\n",
       "      <th>0</th>\n",
       "      <td>91</td>\n",
       "      <td>0.904762</td>\n",
       "      <td>San Francisco</td>\n",
       "      <td>37.785908</td>\n",
       "      <td>-122.408891</td>\n",
       "    </tr>\n",
       "    <tr>\n",
       "      <th>1</th>\n",
       "      <td>62</td>\n",
       "      <td>0.790143</td>\n",
       "      <td>San Francisco</td>\n",
       "      <td>37.785299</td>\n",
       "      <td>-122.396236</td>\n",
       "    </tr>\n",
       "    <tr>\n",
       "      <th>2</th>\n",
       "      <td>45</td>\n",
       "      <td>0.789843</td>\n",
       "      <td>San Francisco</td>\n",
       "      <td>37.794231</td>\n",
       "      <td>-122.402923</td>\n",
       "    </tr>\n",
       "    <tr>\n",
       "      <th>3</th>\n",
       "      <td>89</td>\n",
       "      <td>0.776316</td>\n",
       "      <td>San Jose</td>\n",
       "      <td>37.332398</td>\n",
       "      <td>-121.890429</td>\n",
       "    </tr>\n",
       "    <tr>\n",
       "      <th>4</th>\n",
       "      <td>63</td>\n",
       "      <td>0.766514</td>\n",
       "      <td>San Francisco</td>\n",
       "      <td>37.786978</td>\n",
       "      <td>-122.398108</td>\n",
       "    </tr>\n",
       "  </tbody>\n",
       "</table>\n",
       "</div>"
      ],
      "text/plain": [
       "   station_id  use_rate       landmark        lat        long\n",
       "0          91  0.904762  San Francisco  37.785908 -122.408891\n",
       "1          62  0.790143  San Francisco  37.785299 -122.396236\n",
       "2          45  0.789843  San Francisco  37.794231 -122.402923\n",
       "3          89  0.776316       San Jose  37.332398 -121.890429\n",
       "4          63  0.766514  San Francisco  37.786978 -122.398108"
      ]
     },
     "execution_count": 985,
     "metadata": {},
     "output_type": "execute_result"
    }
   ],
   "source": [
    "tmp20=jikei.max().sort_values(ascending=False).reset_index()\n",
    "tmp21=pd.merge(tmp20, sta, how='left').head()\n",
    "tmp21.rename(columns={0:'use_rate'})\n",
    " #平均最大使用率の高い順"
   ]
  },
  {
   "cell_type": "code",
   "execution_count": 982,
   "metadata": {},
   "outputs": [
    {
     "data": {
      "image/png": "[encoded data removed]",
      "text/plain": [
       "<matplotlib.figure.Figure at 0x7f0072e55208>"
      ]
     },
     "metadata": {},
     "output_type": "display_data"
    }
   ],
   "source": [
    "tmp50 = status.groupby('youbi').mean()\n",
    "plt.bar(tmp50.index, tmp50.use_rate)\n",
    "plt.show()"
   ]
  },
  {
   "cell_type": "code",
   "execution_count": 997,
   "metadata": {
    "scrolled": false
   },
   "outputs": [
    {
     "data": {
      "text/html": [
       "<div>\n",
       "<table border=\"1\" class=\"dataframe\">\n",
       "  <thead>\n",
       "    <tr style=\"text-align: right;\">\n",
       "      <th></th>\n",
       "      <th>station_id</th>\n",
       "      <th>zero</th>\n",
       "      <th>landmark</th>\n",
       "      <th>lat</th>\n",
       "      <th>long</th>\n",
       "    </tr>\n",
       "  </thead>\n",
       "  <tbody>\n",
       "    <tr>\n",
       "      <th>0</th>\n",
       "      <td>62</td>\n",
       "      <td>202</td>\n",
       "      <td>San Francisco</td>\n",
       "      <td>37.785299</td>\n",
       "      <td>-122.396236</td>\n",
       "    </tr>\n",
       "    <tr>\n",
       "      <th>1</th>\n",
       "      <td>45</td>\n",
       "      <td>152</td>\n",
       "      <td>San Francisco</td>\n",
       "      <td>37.794231</td>\n",
       "      <td>-122.402923</td>\n",
       "    </tr>\n",
       "    <tr>\n",
       "      <th>2</th>\n",
       "      <td>63</td>\n",
       "      <td>140</td>\n",
       "      <td>San Francisco</td>\n",
       "      <td>37.786978</td>\n",
       "      <td>-122.398108</td>\n",
       "    </tr>\n",
       "    <tr>\n",
       "      <th>3</th>\n",
       "      <td>41</td>\n",
       "      <td>132</td>\n",
       "      <td>San Francisco</td>\n",
       "      <td>37.795001</td>\n",
       "      <td>-122.399970</td>\n",
       "    </tr>\n",
       "    <tr>\n",
       "      <th>4</th>\n",
       "      <td>73</td>\n",
       "      <td>119</td>\n",
       "      <td>San Francisco</td>\n",
       "      <td>37.797900</td>\n",
       "      <td>-122.405942</td>\n",
       "    </tr>\n",
       "  </tbody>\n",
       "</table>\n",
       "</div>"
      ],
      "text/plain": [
       "   station_id  zero       landmark        lat        long\n",
       "0          62   202  San Francisco  37.785299 -122.396236\n",
       "1          45   152  San Francisco  37.794231 -122.402923\n",
       "2          63   140  San Francisco  37.786978 -122.398108\n",
       "3          41   132  San Francisco  37.795001 -122.399970\n",
       "4          73   119  San Francisco  37.797900 -122.405942"
      ]
     },
     "execution_count": 997,
     "metadata": {},
     "output_type": "execute_result"
    }
   ],
   "source": [
    "tmp30 = status[status.bikes_available == 0].groupby('station_id').count().sort_values(by='use_rate', ascending=False).reset_index()\n",
    "tmp30=tmp30[['station_id', 'day']]\n",
    "tmp40=pd.merge(tmp30, sta, how='left').rename(columns={'day':'zero'})\n",
    "tmp40.head()\n",
    "#機会損失ランキング"
   ]
  },
  {
   "cell_type": "code",
   "execution_count": 1007,
   "metadata": {},
   "outputs": [
    {
     "data": {
      "image/png": "[encoded data removed]",
      "text/plain": [
       "<matplotlib.figure.Figure at 0x7f0071f64ef0>"
      ]
     },
     "metadata": {},
     "output_type": "display_data"
    }
   ],
   "source": [
    "tmp11=status[status.station_id==73].groupby('hour').mean()\n",
    "tmp11\n",
    "plt.bar(tmp11.index, tmp11.use_rate)\n",
    "plt.show() #stationごとの時系列userate平均"
   ]
  },
  {
   "cell_type": "code",
   "execution_count": 902,
   "metadata": {
    "scrolled": true
   },
   "outputs": [
    {
     "data": {
      "image/png": "[encoded data removed]",
      "text/plain": [
       "<matplotlib.figure.Figure at 0x7f0073099940>"
      ]
     },
     "metadata": {},
     "output_type": "display_data"
    }
   ],
   "source": [
    "piyo=tmp2.groupby('mon').count()  #曜日ごとの集計\n",
    "plt.bar(piyo.index, piyo.Duration)\n",
    "plt.show()"
   ]
  },
  {
   "cell_type": "code",
   "execution_count": 939,
   "metadata": {
    "scrolled": true
   },
   "outputs": [
    {
     "data": {
      "image/png": "[encoded data removed]",
      "text/plain": [
       "<matplotlib.figure.Figure at 0x7f0072396be0>"
      ]
     },
     "metadata": {},
     "output_type": "display_data"
    }
   ],
   "source": [
    "#tmp3=data.groupby('day')['start_lat','start_long'].count()\n",
    "tmp3=data.groupby(['day','Start City']).start_lat.count().reset_index()\n",
    "tmp3.rename(columns={'start_lat': 'cnt', 'Start City':'landmark'},inplace=True)\n",
    "hoge=pd.merge(tmp3, tenki, how='left') #天候と件数をまとめた\n",
    "hoge=hoge[hoge.landmark=='San Francisco']\n",
    "hoge = hoge[hoge.day.dt.weekday < 5]\n",
    "hoge.groupby('PrecipitationIn').count()\n",
    "plt.plot(hoge['PrecipitationIn'], hoge.cnt,'o')\n",
    "plt.show()"
   ]
  },
  {
   "cell_type": "code",
   "execution_count": 64,
   "metadata": {},
   "outputs": [],
   "source": [
    "palo = data[data['Start City'] == 'Palo Alto'].dis\n",
    "other = data[data['Start City'] != 'Palo Alto'].dis"
   ]
  },
  {
   "cell_type": "code",
   "execution_count": 890,
   "metadata": {
    "scrolled": true
   },
   "outputs": [
    {
     "data": {
      "text/html": [
       "<div>\n",
       "<table border=\"1\" class=\"dataframe\">\n",
       "  <thead>\n",
       "    <tr style=\"text-align: right;\">\n",
       "      <th>End City</th>\n",
       "      <th>Mountain View</th>\n",
       "      <th>Palo Alto</th>\n",
       "      <th>San Francisco</th>\n",
       "      <th>San Jose</th>\n",
       "    </tr>\n",
       "    <tr>\n",
       "      <th>Start City</th>\n",
       "      <th></th>\n",
       "      <th></th>\n",
       "      <th></th>\n",
       "      <th></th>\n",
       "    </tr>\n",
       "  </thead>\n",
       "  <tbody>\n",
       "    <tr>\n",
       "      <th>Mountain View</th>\n",
       "      <td>6410.0</td>\n",
       "      <td>97.0</td>\n",
       "      <td>2.0</td>\n",
       "      <td>3.0</td>\n",
       "    </tr>\n",
       "    <tr>\n",
       "      <th>Palo Alto</th>\n",
       "      <td>105.0</td>\n",
       "      <td>2883.0</td>\n",
       "      <td>NaN</td>\n",
       "      <td>NaN</td>\n",
       "    </tr>\n",
       "    <tr>\n",
       "      <th>San Francisco</th>\n",
       "      <td>NaN</td>\n",
       "      <td>NaN</td>\n",
       "      <td>287507.0</td>\n",
       "      <td>4.0</td>\n",
       "    </tr>\n",
       "    <tr>\n",
       "      <th>San Jose</th>\n",
       "      <td>1.0</td>\n",
       "      <td>1.0</td>\n",
       "      <td>2.0</td>\n",
       "      <td>14974.0</td>\n",
       "    </tr>\n",
       "  </tbody>\n",
       "</table>\n",
       "</div>"
      ],
      "text/plain": [
       "End City       Mountain View  Palo Alto  San Francisco  San Jose\n",
       "Start City                                                      \n",
       "Mountain View         6410.0       97.0            2.0       3.0\n",
       "Palo Alto              105.0     2883.0            NaN       NaN\n",
       "San Francisco            NaN        NaN       287507.0       4.0\n",
       "San Jose                 1.0        1.0            2.0   14974.0"
      ]
     },
     "execution_count": 890,
     "metadata": {},
     "output_type": "execute_result"
    }
   ],
   "source": [
    "data.groupby([\"Start City\", \"End City\"]).Duration.count().unstack() \n",
    "#行き先の市の組み合わせ"
   ]
  },
  {
   "cell_type": "code",
   "execution_count": 944,
   "metadata": {
    "scrolled": true
   },
   "outputs": [
    {
     "data": {
      "text/plain": [
       "station_id\n",
       "91    0.833122\n",
       "89    0.707337\n",
       "62    0.692029\n",
       "67    0.678979\n",
       "59    0.656112\n",
       "Name: use_rate, dtype: float64"
      ]
     },
     "execution_count": 944,
     "metadata": {},
     "output_type": "execute_result"
    }
   ],
   "source": [
    "status.groupby(\"station_id\").use_rate.mean().sort_values(ascending=False).head() \n",
    "#station別使用率ランキング"
   ]
  },
  {
   "cell_type": "code",
   "execution_count": 922,
   "metadata": {
    "scrolled": true
   },
   "outputs": [
    {
     "data": {
      "text/html": [
       "<div>\n",
       "<table border=\"1\" class=\"dataframe\">\n",
       "  <thead>\n",
       "    <tr style=\"text-align: right;\">\n",
       "      <th></th>\n",
       "      <th>Duration</th>\n",
       "      <th>Subscriber Type</th>\n",
       "    </tr>\n",
       "    <tr>\n",
       "      <th>Start City</th>\n",
       "      <th></th>\n",
       "      <th></th>\n",
       "    </tr>\n",
       "  </thead>\n",
       "  <tbody>\n",
       "    <tr>\n",
       "      <th>Mountain View</th>\n",
       "      <td>977.996622</td>\n",
       "      <td>0.158630</td>\n",
       "    </tr>\n",
       "    <tr>\n",
       "      <th>Palo Alto</th>\n",
       "      <td>2128.265060</td>\n",
       "      <td>0.323963</td>\n",
       "    </tr>\n",
       "    <tr>\n",
       "      <th>San Francisco</th>\n",
       "      <td>804.666952</td>\n",
       "      <td>0.100563</td>\n",
       "    </tr>\n",
       "    <tr>\n",
       "      <th>San Jose</th>\n",
       "      <td>923.938910</td>\n",
       "      <td>0.167646</td>\n",
       "    </tr>\n",
       "  </tbody>\n",
       "</table>\n",
       "</div>"
      ],
      "text/plain": [
       "                  Duration  Subscriber Type\n",
       "Start City                                 \n",
       "Mountain View   977.996622         0.158630\n",
       "Palo Alto      2128.265060         0.323963\n",
       "San Francisco   804.666952         0.100563\n",
       "San Jose        923.938910         0.167646"
      ]
     },
     "execution_count": 922,
     "metadata": {},
     "output_type": "execute_result"
    }
   ],
   "source": [
    "data.groupby('Start City')['Duration', 'Subscriber Type'].mean()"
   ]
  },
  {
   "cell_type": "code",
   "execution_count": null,
   "metadata": {
    "collapsed": true
   },
   "outputs": [],
   "source": []
  }
 ],
 "metadata": {
  "kernelspec": {
   "display_name": "Python 3",
   "language": "python",
   "name": "python3"
  },
  "language_info": {
   "codemirror_mode": {
    "name": "ipython",
    "version": 2
   },
   "file_extension": ".py",
   "mimetype": "text/x-python",
   "name": "python",
   "nbconvert_exporter": "python",
   "pygments_lexer": "ipython2",
   "version": "2.7.12"
  },
  "varInspector": {
   "cols": {
    "lenName": 16,
    "lenType": 16,
    "lenVar": 40
   },
   "kernels_config": {
    "python": {
     "delete_cmd_postfix": "",
     "delete_cmd_prefix": "del ",
     "library": "var_list.py",
     "varRefreshCmd": "print(var_dic_list())"
    },
    "r": {
     "delete_cmd_postfix": ") ",
     "delete_cmd_prefix": "rm(",
     "library": "var_list.r",
     "varRefreshCmd": "cat(var_dic_list()) "
    }
   },
   "types_to_exclude": [
    "module",
    "function",
    "builtin_function_or_method",
    "instance",
    "_Feature"
   ],
   "window_display": false
  }
 },
 "nbformat": 4,
 "nbformat_minor": 2
}
