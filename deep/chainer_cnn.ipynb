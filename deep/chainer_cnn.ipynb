{
 "cells": [
  {
   "cell_type": "code",
   "execution_count": 1,
   "metadata": {
    "ExecuteTime": {
     "end_time": "2018-09-01T16:23:23.316422Z",
     "start_time": "2018-09-01T16:23:22.655495Z"
    }
   },
   "outputs": [],
   "source": [
    "import chainer\n",
    "from chainer.datasets import mnist, split_dataset_random\n",
    "from chainer.dataset import concat_examples\n",
    "import matplotlib.pyplot as plt\n",
    "from chainer import iterators, Chain\n",
    "import chainer.links as L\n",
    "import chainer.functions as F\n",
    "from chainer import optimizers\n",
    "import numpy as np\n",
    "from chainer import cuda\n",
    "\n",
    "device=-1"
   ]
  },
  {
   "cell_type": "code",
   "execution_count": 2,
   "metadata": {
    "ExecuteTime": {
     "end_time": "2018-09-01T16:23:24.712014Z",
     "start_time": "2018-09-01T16:23:24.205744Z"
    }
   },
   "outputs": [],
   "source": [
    "train_val, test = mnist.get_mnist(withlabel=True, ndim=3)\n",
    "train, valid = split_dataset_random(train_val, 50000, seed=0)\n",
    "\n",
    "if device >= 0:\n",
    "    print('process')\n",
    "    for i in train_val:\n",
    "        cuda.to_gpu(i[0])\n",
    "    for i in test:\n",
    "        cuda.to_gpu(i[0])\n",
    "    print('process end')\n",
    "\n",
    "\n",
    "batchsize=512\n",
    "\n",
    "train_iter = iterators.SerialIterator(train, batchsize)\n",
    "valid_iter = iterators.SerialIterator(\n",
    "    valid, batchsize, repeat=False, shuffle=False)\n",
    "test_iter = iterators.SerialIterator(\n",
    "    test, batchsize, repeat=False, shuffle=False)"
   ]
  },
  {
   "cell_type": "code",
   "execution_count": 3,
   "metadata": {
    "ExecuteTime": {
     "end_time": "2018-09-01T16:23:26.376832Z",
     "start_time": "2018-09-01T16:23:26.062947Z"
    }
   },
   "outputs": [
    {
     "data": {
      "text/plain": [
       "<matplotlib.image.AxesImage at 0x7f4eed284048>"
      ]
     },
     "execution_count": 3,
     "metadata": {},
     "output_type": "execute_result"
    },
    {
     "data": {
      "image/png": "[encoded data removed]",
      "text/plain": [
       "<Figure size 432x288 with 1 Axes>"
      ]
     },
     "metadata": {},
     "output_type": "display_data"
    }
   ],
   "source": [
    "plt.imshow(train[0][0][0], cmap='gray')"
   ]
  },
  {
   "cell_type": "code",
   "execution_count": 4,
   "metadata": {
    "ExecuteTime": {
     "end_time": "2018-09-01T16:23:29.584889Z",
     "start_time": "2018-09-01T16:23:29.542059Z"
    }
   },
   "outputs": [],
   "source": [
    "class CNN(chainer.Chain):\n",
    "    def __init__(self):\n",
    "        super(CNN, self).__init__(\n",
    "            conv1 = L.Convolution2D(1, 20, 5),\n",
    "            conv2 = L.Convolution2D(20, 50, 5),\n",
    "            l1 = L.Linear(800, 500),\n",
    "            l2 = L.Linear(500, 500),\n",
    "            l3 = L.Linear(500, 10)\n",
    "        )\n",
    "    \n",
    "    def __call__(self, x):\n",
    "        c1 = F.max_pooling_2d(F.relu(self.conv1(x)), 2)\n",
    "        c2 = F.max_pooling_2d(F.relu(self.conv2(c1)), 2)\n",
    "        h1 = F.relu(self.l1(c2))\n",
    "        h2 = F.relu(self.l2(h1))\n",
    "        return self.l3(h2)"
   ]
  },
  {
   "cell_type": "code",
   "execution_count": 5,
   "metadata": {
    "ExecuteTime": {
     "end_time": "2018-09-01T16:23:31.646383Z",
     "start_time": "2018-09-01T16:23:31.552153Z"
    }
   },
   "outputs": [],
   "source": [
    "from chainer import training\n",
    "from chainer.training import extensions\n",
    "\n",
    "model = L.Classifier(CNN())\n",
    "if device >= 0:\n",
    "    model.to_gpu()\n",
    "    \n",
    "optimizer = optimizers.Adam()\n",
    "optimizer.setup(model)\n",
    "updater = training.StandardUpdater(train_iter, optimizer, device=device)\n",
    "\n",
    "max_epoch = 5\n",
    "\n",
    "trainer = training.Trainer(\n",
    "    updater, (max_epoch, 'epoch'), out='mnist_cnn')\n",
    "\n",
    "trainer.extend(extensions.LogReport())\n",
    "trainer.extend(extensions.snapshot(filename='snapshot_epoch-{.updater.epoch}'))\n",
    "trainer.extend(extensions.Evaluator(valid_iter, model, device=device), name='val')\n",
    "trainer.extend(extensions.PrintReport(['epoch', 'main/loss', 'main/accuracy', 'val/main/loss', 'val/main/accuracy', 'elapsed_time']))\n",
    "trainer.extend(extensions.PlotReport(['main/loss', 'val/main/loss'], x_key='epoch', file_name='loss.png'))\n",
    "trainer.extend(extensions.PlotReport(['main/accuracy', 'val/main/accuracy'], x_key='epoch', file_name='accuracy.png'))\n",
    "trainer.extend(extensions.dump_graph('main/loss'))"
   ]
  },
  {
   "cell_type": "code",
   "execution_count": 122,
   "metadata": {
    "ExecuteTime": {
     "end_time": "2018-09-01T09:09:21.315098Z",
     "start_time": "2018-09-01T08:59:44.505044Z"
    }
   },
   "outputs": [
    {
     "name": "stdout",
     "output_type": "stream",
     "text": [
      "epoch       main/loss   main/accuracy  val/main/loss  val/main/accuracy  elapsed_time\n",
      "\u001b[J1           0.354037    0.900809       0.108548       0.96933            106.541       \n",
      "\u001b[J2           0.0761867   0.976503       0.0722816      0.977424           222.995       \n",
      "\u001b[J3           0.0498743   0.984858       0.0497957      0.985323           336.015       \n",
      "\u001b[J4           0.0363953   0.989298       0.0423858      0.986592           447.612       \n",
      "\u001b[J5           0.0297176   0.991231       0.0388405      0.987667           576.003       \n"
     ]
    }
   ],
   "source": [
    "trainer.run()"
   ]
  },
  {
   "cell_type": "code",
   "execution_count": 125,
   "metadata": {
    "ExecuteTime": {
     "end_time": "2018-09-01T10:15:50.862260Z",
     "start_time": "2018-09-01T10:15:43.399983Z"
    }
   },
   "outputs": [
    {
     "data": {
      "text/plain": [
       "0.9898"
      ]
     },
     "execution_count": 125,
     "metadata": {},
     "output_type": "execute_result"
    }
   ],
   "source": [
    "evaluator = extensions.Evaluator(test_iter, model)\n",
    "results = evaluator()\n",
    "round(results['main/accuracy'], 4)"
   ]
  },
  {
   "cell_type": "code",
   "execution_count": 152,
   "metadata": {
    "ExecuteTime": {
     "end_time": "2018-09-01T10:22:33.166432Z",
     "start_time": "2018-09-01T10:22:32.957354Z"
    }
   },
   "outputs": [
    {
     "data": {
      "image/png": "[encoded data removed]",
      "text/plain": [
       "<Figure size 432x288 with 1 Axes>"
      ]
     },
     "metadata": {},
     "output_type": "display_data"
    },
    {
     "data": {
      "text/plain": [
       "9"
      ]
     },
     "execution_count": 152,
     "metadata": {},
     "output_type": "execute_result"
    }
   ],
   "source": [
    "image=test[9][0]\n",
    "plt.imshow(image[0], cmap='gray')\n",
    "plt.show()\n",
    "\n",
    "model.predictor(np.array([image])).data.argmax()"
   ]
  }
 ],
 "metadata": {
  "kernelspec": {
   "display_name": "Python 3",
   "language": "python",
   "name": "python3"
  },
  "varInspector": {
   "cols": {
    "lenName": 16,
    "lenType": 16,
    "lenVar": 40
   },
   "kernels_config": {
    "python": {
     "delete_cmd_postfix": "",
     "delete_cmd_prefix": "del ",
     "library": "var_list.py",
     "varRefreshCmd": "print(var_dic_list())"
    },
    "r": {
     "delete_cmd_postfix": ") ",
     "delete_cmd_prefix": "rm(",
     "library": "var_list.r",
     "varRefreshCmd": "cat(var_dic_list()) "
    }
   },
   "types_to_exclude": [
    "module",
    "function",
    "builtin_function_or_method",
    "instance",
    "_Feature"
   ],
   "window_display": false
  }
 },
 "nbformat": 4,
 "nbformat_minor": 2
}
