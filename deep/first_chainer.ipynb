{
 "cells": [
  {
   "cell_type": "code",
   "execution_count": 25,
   "metadata": {
    "ExecuteTime": {
     "end_time": "2018-07-11T16:53:37.871813Z",
     "start_time": "2018-07-11T16:53:37.850049Z"
    }
   },
   "outputs": [],
   "source": [
    "import chainer\n",
    "from chainer.datasets import mnist, split_dataset_random\n",
    "from chainer.dataset import concat_examples\n",
    "import matplotlib.pyplot as plt\n",
    "from chainer import iterators, Chain\n",
    "import chainer.links as L\n",
    "import chainer.functions as F\n",
    "from chainer import optimizers\n",
    "import numpy as np"
   ]
  },
  {
   "cell_type": "code",
   "execution_count": 35,
   "metadata": {
    "ExecuteTime": {
     "end_time": "2018-07-11T17:21:38.575322Z",
     "start_time": "2018-07-11T17:21:38.123703Z"
    }
   },
   "outputs": [],
   "source": [
    "train_val, test = mnist.get_mnist(withlabel=True, ndim=1)"
   ]
  },
  {
   "cell_type": "code",
   "execution_count": 36,
   "metadata": {
    "ExecuteTime": {
     "end_time": "2018-07-11T17:21:40.670072Z",
     "start_time": "2018-07-11T17:21:40.493498Z"
    }
   },
   "outputs": [
    {
     "data": {
      "text/plain": [
       "<matplotlib.image.AxesImage at 0x7f197fcdc400>"
      ]
     },
     "execution_count": 36,
     "metadata": {},
     "output_type": "execute_result"
    },
    {
     "data": {
      "image/png": "[encoded data removed]",
      "text/plain": [
       "<Figure size 432x288 with 1 Axes>"
      ]
     },
     "metadata": {},
     "output_type": "display_data"
    }
   ],
   "source": [
    "x, t = train_val[0]\n",
    "plt.imshow(x.reshape(28, 28), cmap='gray')"
   ]
  },
  {
   "cell_type": "code",
   "execution_count": 37,
   "metadata": {
    "ExecuteTime": {
     "end_time": "2018-07-11T17:21:42.660248Z",
     "start_time": "2018-07-11T17:21:42.656150Z"
    }
   },
   "outputs": [],
   "source": [
    "train, valid = split_dataset_random(train_val, 50000, seed=0)"
   ]
  },
  {
   "cell_type": "code",
   "execution_count": 42,
   "metadata": {
    "ExecuteTime": {
     "end_time": "2018-07-11T17:22:24.422616Z",
     "start_time": "2018-07-11T17:22:24.388008Z"
    }
   },
   "outputs": [],
   "source": [
    "batchsize=128\n",
    "\n",
    "train_iter = iterators.SerialIterator(train, batchsize)\n",
    "valid_iter = iterators.SerialIterator(\n",
    "    valid, batchsize, repeat=False, shuffle=False)\n",
    "test_iter = iterators.SerialIterator(\n",
    "    test, batchsize, repeat=False, shuffle=False)"
   ]
  },
  {
   "cell_type": "code",
   "execution_count": 43,
   "metadata": {
    "ExecuteTime": {
     "end_time": "2018-07-11T17:22:26.703868Z",
     "start_time": "2018-07-11T17:22:26.698393Z"
    }
   },
   "outputs": [],
   "source": [
    "class Model(Chain):\n",
    "    def __init__(self, n_mid_units=100, n_out=10):\n",
    "        super(Model, self).__init__()\n",
    "        \n",
    "        with self.init_scope():\n",
    "            self.l1 = L.Linear(None, n_mid_units)\n",
    "            self.l2 = L.Linear(n_mid_units, n_mid_units)\n",
    "            self.l3 = L.Linear(n_mid_units, n_out)\n",
    "            \n",
    "    def __call__(self, x):\n",
    "        h1 = F.relu(self.l1(x))\n",
    "        h2 = F.relu(self.l2(h1))\n",
    "        return self.l3(h2)\n",
    "\n",
    "model = Model()"
   ]
  },
  {
   "cell_type": "code",
   "execution_count": 44,
   "metadata": {
    "ExecuteTime": {
     "end_time": "2018-07-11T17:22:28.717757Z",
     "start_time": "2018-07-11T17:22:28.714325Z"
    }
   },
   "outputs": [],
   "source": [
    "optimizer = optimizers.SGD(lr=0.01).setup(model)"
   ]
  },
  {
   "cell_type": "code",
   "execution_count": 45,
   "metadata": {
    "ExecuteTime": {
     "end_time": "2018-07-11T17:22:53.729693Z",
     "start_time": "2018-07-11T17:22:30.757346Z"
    }
   },
   "outputs": [
    {
     "name": "stdout",
     "output_type": "stream",
     "text": [
      "epoch:01 train_loss:1.0002 val_loss:0.9397 vali_accuracy:0.8076\n",
      "epoch:02 train_loss:0.5349 val_loss:0.5193 vali_accuracy:0.8640\n",
      "epoch:03 train_loss:0.3178 val_loss:0.4111 vali_accuracy:0.8857\n",
      "epoch:04 train_loss:0.3101 val_loss:0.3631 vali_accuracy:0.8970\n",
      "epoch:05 train_loss:0.3016 val_loss:0.3339 vali_accuracy:0.9032\n",
      "epoch:06 train_loss:0.2848 val_loss:0.3165 vali_accuracy:0.9092\n",
      "epoch:07 train_loss:0.3063 val_loss:0.3007 vali_accuracy:0.9141\n",
      "epoch:08 train_loss:0.1971 val_loss:0.2879 vali_accuracy:0.9180\n",
      "epoch:09 train_loss:0.3376 val_loss:0.2777 vali_accuracy:0.9210\n",
      "epoch:10 train_loss:0.2457 val_loss:0.2690 vali_accuracy:0.9229\n",
      "test_accuracy:0.9267\n"
     ]
    }
   ],
   "source": [
    "max_epoch=10\n",
    "\n",
    "while train_iter.epoch < max_epoch:\n",
    "    train_batch = train_iter.next()\n",
    "    x, t = concat_examples(train_batch)\n",
    "    y = model(x)\n",
    "    \n",
    "    loss = F.softmax_cross_entropy(y, t)\n",
    "    model.cleargrads()\n",
    "    loss.backward()\n",
    "    optimizer.update()\n",
    "    \n",
    "    if train_iter.is_new_epoch:\n",
    "        print('epoch:{:02d} train_loss:{:.04f}'.format(\n",
    "            train_iter.epoch, float(loss.data)), end=' ')\n",
    "        \n",
    "        valid_losses = []\n",
    "        valid_accuracies = []\n",
    "        \n",
    "        while True:\n",
    "            valid_batch = valid_iter.next()\n",
    "            x_valid, t_valid = concat_examples(valid_batch)\n",
    "            \n",
    "            with chainer.using_config('train', False), \\\n",
    "                chainer.using_config('enable_backprop', False):\n",
    "                    y_valid = model(x_valid)\n",
    "                    \n",
    "            loss_valid = F.softmax_cross_entropy(y_valid, t_valid)\n",
    "            valid_losses.append(loss_valid.array)\n",
    "            \n",
    "            accuracy = F.accuracy(y_valid, t_valid)\n",
    "            valid_accuracies.append(accuracy.array)\n",
    "            \n",
    "            if valid_iter.is_new_epoch:\n",
    "                valid_iter.reset()\n",
    "                break\n",
    "        \n",
    "        print('val_loss:{:.04f} vali_accuracy:{:.04f}'.format(\n",
    "            np.mean(valid_losses), np.mean(valid_accuracies)))\n",
    "        \n",
    "test_accuracies = []\n",
    "while True:\n",
    "    test_batch = test_iter.next()\n",
    "    x_test, t_test = concat_examples(test_batch)\n",
    "    \n",
    "    with chainer.using_config('train', False), \\\n",
    "            chainer.using_config('enable_backprop', False):\n",
    "        y_test = model(x_test)\n",
    "\n",
    "    accuracy = F.accuracy(y_test, t_test)\n",
    "    test_accuracies.append(accuracy.array)\n",
    "    \n",
    "    if test_iter.is_new_epoch:\n",
    "        test_iter.reset()\n",
    "        break\n",
    "        \n",
    "print('test_accuracy:{:.04f}'.format(np.mean(test_accuracies)))"
   ]
  },
  {
   "cell_type": "code",
   "execution_count": null,
   "metadata": {},
   "outputs": [],
   "source": []
  }
 ],
 "metadata": {
  "kernelspec": {
   "display_name": "Python 3",
   "language": "python",
   "name": "python3"
  },
  "language_info": {
   "codemirror_mode": {
    "name": "ipython",
    "version": 3
   },
   "file_extension": ".py",
   "mimetype": "text/x-python",
   "name": "python",
   "nbconvert_exporter": "python",
   "pygments_lexer": "ipython3",
   "version": "3.6.5"
  },
  "varInspector": {
   "cols": {
    "lenName": 16,
    "lenType": 16,
    "lenVar": 40
   },
   "kernels_config": {
    "python": {
     "delete_cmd_postfix": "",
     "delete_cmd_prefix": "del ",
     "library": "var_list.py",
     "varRefreshCmd": "print(var_dic_list())"
    },
    "r": {
     "delete_cmd_postfix": ") ",
     "delete_cmd_prefix": "rm(",
     "library": "var_list.r",
     "varRefreshCmd": "cat(var_dic_list()) "
    }
   },
   "types_to_exclude": [
    "module",
    "function",
    "builtin_function_or_method",
    "instance",
    "_Feature"
   ],
   "window_display": false
  }
 },
 "nbformat": 4,
 "nbformat_minor": 2
}
