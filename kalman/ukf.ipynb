{
 "cells": [
  {
   "cell_type": "code",
   "execution_count": 1,
   "metadata": {
    "collapsed": true
   },
   "outputs": [],
   "source": [
    "import numpy as np\n",
    "import matplotlib.pyplot as plt    "
   ]
  },
  {
   "cell_type": "code",
   "execution_count": 2,
   "metadata": {
    "collapsed": true
   },
   "outputs": [],
   "source": [
    "def update(P, C, x_hat, obs):\n",
    "    n = P.shape[0] #次元\n",
    "    alpha = 10 ** -3 + 1\n",
    "    beta = 2\n",
    "    lmd = (alpha ** 2 - 1) * n\n",
    "    wei0 = lmd / (n + lmd) + 1 - alpha ** 2 + beta\n",
    "    wei = 0.5 / (n + lmd)\n",
    "    L = np.linalg.cholesky(P * (n + lmd))\n",
    "\n",
    "    sample_x0 = x_hat\n",
    "    y_hat = sample_y0 = C * x_hat\n",
    "    sample_x = []\n",
    "    sample_y = []\n",
    "\n",
    "    for i in range(n): #sample_xの作成\n",
    "        sample_x.append(x_hat + L[:, i])\n",
    "        sample_x.append(x_hat - L[:, i])\n",
    "    \n",
    "    for vec in sample_x: #実際に変換してみた\n",
    "        sample_y.append(C * vec)\n",
    "\n",
    "    diff_x = sample_x0 - x_hat\n",
    "    diff_y = sample_y0 - y_hat\n",
    "    P_xy = wei0 * diff_x * diff_y.T\n",
    "    P_yy = wei0 * diff_y * diff_y.T + R\n",
    "\n",
    "    for i in range(2 * n): #共分散行列の計算\n",
    "        diff_x = sample_x[i] - x_hat\n",
    "        diff_y = sample_y[i] - y_hat\n",
    "        P_xy += wei * diff_x * diff_y.T\n",
    "        P_yy += wei * diff_y * diff_y.T\n",
    "\n",
    "    #更新\n",
    "    G = P_xy * np.linalg.inv(P_yy)\n",
    "    x_hat = x_hat + G * (obs - y_hat)\n",
    "    P = P - G * P_xy.T\n",
    "    \n",
    "    return P, x_hat"
   ]
  },
  {
   "cell_type": "code",
   "execution_count": 20,
   "metadata": {},
   "outputs": [
    {
     "name": "stdout",
     "output_type": "stream",
     "text": [
      "[[ 7.76188667]\n",
      " [ 7.77063927]\n",
      " [ 0.6579246 ]]\n",
      "[[  7.09624493e-04   4.89890942e-05   5.28386523e-05]\n",
      " [  4.89890942e-05   6.50744298e-04   1.17454521e-04]\n",
      " [  5.28386523e-05   1.17454521e-04   5.47382702e-03]]\n"
     ]
    },
    {
     "data": {
      "image/png": "[encoded data removed]",
      "text/plain": [
       "<matplotlib.figure.Figure at 0x7fed45befe48>"
      ]
     },
     "metadata": {},
     "output_type": "display_data"
    }
   ],
   "source": [
    "a = 7.\n",
    "b = 7.\n",
    "c = 1.\n",
    "\n",
    "\n",
    "\n",
    "x = np.random.uniform(-5, 5, 365)\n",
    "x2 = np.random.uniform(-5, 5, 365)\n",
    "v = np.random.normal(0, 2, 365)\n",
    "y = []\n",
    "\n",
    "a_hat = []\n",
    "b_hat = []\n",
    "c_hat = []\n",
    "\n",
    "\n",
    "for i in range(365):\n",
    "    if i < 300:\n",
    "        y.append(a * x[i] + b * x2[i] + c + v[i])\n",
    "    else:\n",
    "        y.append((a + 4) * x[i] + (b + 4) * x2[i] + c + v[i])\n",
    "        \n",
    "P = np.mat(np.mat([[1,0,0],[0,1,0],[0,0,1]]))\n",
    "R = np.mat([2])\n",
    "I = np.mat(np.identity(3))\n",
    "x_hat = np.mat([[1],[2],[-1]])\n",
    "S =np.mat([[1, 0, 0], [0, 1, 0], [0, 0, 1]]) * 0.1\n",
    "\n",
    "\n",
    "for i in range(365):\n",
    "    C = np.mat([x[i], x2[i], 1]) #変換行列\n",
    "    obs = np.mat([y[i]]) #観測値\n",
    "    if (i % 500 == 0): #刺激\n",
    "        P = P + S ** 2\n",
    "    P, x_hat = update(P, C, x_hat, obs)\n",
    "    a_hat.append(x_hat[0,0])\n",
    "    b_hat.append(x_hat[1,0])\n",
    "    c_hat.append(x_hat[2,0])\n",
    "\n",
    "print(x_hat)\n",
    "print(P)\n",
    "plt.plot(a_hat)\n",
    "plt.plot(b_hat)\n",
    "plt.plot(c_hat)\n",
    "plt.show()"
   ]
  },
  {
   "cell_type": "code",
   "execution_count": null,
   "metadata": {
    "collapsed": true
   },
   "outputs": [],
   "source": []
  }
 ],
 "metadata": {
  "kernelspec": {
   "display_name": "Python 3",
   "language": "python",
   "name": "python3"
  },
  "language_info": {
   "codemirror_mode": {
    "name": "ipython",
    "version": 3
   },
   "file_extension": ".py",
   "mimetype": "text/x-python",
   "name": "python",
   "nbconvert_exporter": "python",
   "pygments_lexer": "ipython3",
   "version": "3.5.2"
  }
 },
 "nbformat": 4,
 "nbformat_minor": 2
}
