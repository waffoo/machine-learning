{
 "cells": [
  {
   "cell_type": "code",
   "execution_count": 2,
   "metadata": {
    "collapsed": true
   },
   "outputs": [],
   "source": [
    "import numpy as np\n",
    "from numpy.linalg import inv\n",
    "import matplotlib.pyplot as plt\n",
    "\n",
    "def update(P, C, R, x_hat, obs, I):\n",
    "    \"\"\"\n",
    "    P 誤差共分散行列\n",
    "    C 観測係数行列\n",
    "    R 観測ノイズ分散行列\n",
    "    \"\"\"\n",
    "\n",
    "    #カルマンゲイン\n",
    "    G = P * C.T * inv(C * P * C.T + R)\n",
    "    x_hat = x_hat + G * (obs - C * x_hat)\n",
    "    P = (I - G * C) * P\n",
    "    return x_hat, P"
   ]
  },
  {
   "cell_type": "code",
   "execution_count": 11,
   "metadata": {},
   "outputs": [
    {
     "name": "stdout",
     "output_type": "stream",
     "text": [
      "[[ 2.53898378]\n",
      " [ 6.00073476]\n",
      " [ 1.01686573]]\n",
      "[[  7.35712619e-04  -6.77905826e-05  -2.64583425e-05]\n",
      " [ -6.77905826e-05   6.70207010e-04   2.12042488e-05]\n",
      " [ -2.64583425e-05   2.12042488e-05   4.25007292e-03]]\n"
     ]
    },
    {
     "data": {
      "image/png": "[encoded data removed]",
      "text/plain": [
       "<matplotlib.figure.Figure at 0x7f4ba48c4160>"
      ]
     },
     "metadata": {},
     "output_type": "display_data"
    }
   ],
   "source": [
    "a = 2.\n",
    "b = 7.\n",
    "c = 1.\n",
    "\n",
    "x = np.random.uniform(-5, 5, 3650)\n",
    "x2 = np.random.uniform(-5, 5, 3650)\n",
    "v = np.random.normal(0, 1, 3650)\n",
    "y = []\n",
    "\n",
    "a_hat = []\n",
    "b_hat = []\n",
    "c_hat = []\n",
    "\n",
    "for i in range(3650):\n",
    "    if i < 1000:\n",
    "        y.append(a * x[i] + b * x2[i] + c + v[i])\n",
    "    else:\n",
    "        y.append((a + 0.5) * x[i] + (b - 1) * x2[i] + c + v[i])\n",
    "    \n",
    "    \n",
    "P = np.mat(np.identity(3))\n",
    "R = np.mat([1])\n",
    "I = np.mat(np.identity(3))\n",
    "x_hat = np.mat([[0],[0],[0]])\n",
    "S =np.mat([[1, 0, 0], [0, 1, 0], [0, 0, 1]]) * 0.1\n",
    "\n",
    "for i in range(3650):\n",
    "    C = np.mat([x[i], x2[i], 1])\n",
    "    obs = np.mat([y[i]])\n",
    "    if (i % 500 == 0):\n",
    "        P = P + S ** 2\n",
    "    x_hat, P = update(P, C, R, x_hat, obs, I)\n",
    "    a_hat.append(x_hat[0,0])\n",
    "    b_hat.append(x_hat[1,0])\n",
    "    c_hat.append(x_hat[2,0])\n",
    "\n",
    "print(x_hat)\n",
    "print(P)\n",
    "plt.plot(a_hat)\n",
    "plt.plot(b_hat)\n",
    "plt.plot(c_hat)\n",
    "plt.show()"
   ]
  },
  {
   "cell_type": "code",
   "execution_count": null,
   "metadata": {
    "collapsed": true
   },
   "outputs": [],
   "source": []
  }
 ],
 "metadata": {
  "kernelspec": {
   "display_name": "Python 3",
   "language": "python",
   "name": "python3"
  },
  "language_info": {
   "codemirror_mode": {
    "name": "ipython",
    "version": 3
   },
   "file_extension": ".py",
   "mimetype": "text/x-python",
   "name": "python",
   "nbconvert_exporter": "python",
   "pygments_lexer": "ipython3",
   "version": "3.6.3"
  },
  "varInspector": {
   "cols": {
    "lenName": 16,
    "lenType": 16,
    "lenVar": 40
   },
   "kernels_config": {
    "python": {
     "delete_cmd_postfix": "",
     "delete_cmd_prefix": "del ",
     "library": "var_list.py",
     "varRefreshCmd": "print(var_dic_list())"
    },
    "r": {
     "delete_cmd_postfix": ") ",
     "delete_cmd_prefix": "rm(",
     "library": "var_list.r",
     "varRefreshCmd": "cat(var_dic_list()) "
    }
   },
   "types_to_exclude": [
    "module",
    "function",
    "builtin_function_or_method",
    "instance",
    "_Feature"
   ],
   "window_display": false
  }
 },
 "nbformat": 4,
 "nbformat_minor": 2
}
